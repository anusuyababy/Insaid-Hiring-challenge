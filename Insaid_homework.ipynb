{
  "nbformat": 4,
  "nbformat_minor": 0,
  "metadata": {
    "accelerator": "GPU",
    "colab": {
      "name": "Insaid homework",
      "provenance": [],
      "collapsed_sections": []
    },
    "kernelspec": {
      "display_name": "Python 3",
      "name": "python3"
    },
    "language_info": {
      "name": "python"
    }
  },
  "cells": [
    {
      "cell_type": "markdown",
      "metadata": {
        "id": "L5wInIuUhJpv"
      },
      "source": [
        "#INSAID Hiring Exercise"
      ]
    },
    {
      "cell_type": "code",
      "metadata": {
        "colab": {
          "base_uri": "https://localhost:8080/"
        },
        "id": "X6uqTV1CC5jd",
        "outputId": "73f06c6e-0cd4-4248-c1d2-41355239908f"
      },
      "source": [
        "from google.colab import drive\n",
        "drive.mount('/content/drive')"
      ],
      "execution_count": 1,
      "outputs": [
        {
          "output_type": "stream",
          "text": [
            "Mounted at /content/drive\n"
          ],
          "name": "stdout"
        }
      ]
    },
    {
      "cell_type": "markdown",
      "metadata": {
        "id": "hyHRt4Nkl9Su"
      },
      "source": [
        "## Importing the libraries and data"
      ]
    },
    {
      "cell_type": "code",
      "metadata": {
        "id": "ifUAhIMWhNiq"
      },
      "source": [
        "# importing libraries\n",
        "import numpy as np\n",
        "import pandas as pd\n",
        "import matplotlib.pyplot as plt\n",
        "import seaborn as sns\n",
        "%matplotlib inline"
      ],
      "execution_count": 2,
      "outputs": []
    },
    {
      "cell_type": "code",
      "metadata": {
        "colab": {
          "base_uri": "https://localhost:8080/",
          "height": 226
        },
        "id": "2KSVI3K-hNl6",
        "outputId": "552745a8-270a-4d5b-d460-87d07ad48fc8"
      },
      "source": [
        "df=pd.read_csv('/content/drive/MyDrive/Fraud.csv')\n",
        "df.head()"
      ],
      "execution_count": 3,
      "outputs": [
        {
          "output_type": "execute_result",
          "data": {
            "text/html": [
              "<div>\n",
              "<style scoped>\n",
              "    .dataframe tbody tr th:only-of-type {\n",
              "        vertical-align: middle;\n",
              "    }\n",
              "\n",
              "    .dataframe tbody tr th {\n",
              "        vertical-align: top;\n",
              "    }\n",
              "\n",
              "    .dataframe thead th {\n",
              "        text-align: right;\n",
              "    }\n",
              "</style>\n",
              "<table border=\"1\" class=\"dataframe\">\n",
              "  <thead>\n",
              "    <tr style=\"text-align: right;\">\n",
              "      <th></th>\n",
              "      <th>step</th>\n",
              "      <th>type</th>\n",
              "      <th>amount</th>\n",
              "      <th>nameOrig</th>\n",
              "      <th>oldbalanceOrg</th>\n",
              "      <th>newbalanceOrig</th>\n",
              "      <th>nameDest</th>\n",
              "      <th>oldbalanceDest</th>\n",
              "      <th>newbalanceDest</th>\n",
              "      <th>isFraud</th>\n",
              "      <th>isFlaggedFraud</th>\n",
              "    </tr>\n",
              "  </thead>\n",
              "  <tbody>\n",
              "    <tr>\n",
              "      <th>0</th>\n",
              "      <td>1</td>\n",
              "      <td>PAYMENT</td>\n",
              "      <td>9839.64</td>\n",
              "      <td>C1231006815</td>\n",
              "      <td>170136.0</td>\n",
              "      <td>160296.36</td>\n",
              "      <td>M1979787155</td>\n",
              "      <td>0.0</td>\n",
              "      <td>0.0</td>\n",
              "      <td>0</td>\n",
              "      <td>0</td>\n",
              "    </tr>\n",
              "    <tr>\n",
              "      <th>1</th>\n",
              "      <td>1</td>\n",
              "      <td>PAYMENT</td>\n",
              "      <td>1864.28</td>\n",
              "      <td>C1666544295</td>\n",
              "      <td>21249.0</td>\n",
              "      <td>19384.72</td>\n",
              "      <td>M2044282225</td>\n",
              "      <td>0.0</td>\n",
              "      <td>0.0</td>\n",
              "      <td>0</td>\n",
              "      <td>0</td>\n",
              "    </tr>\n",
              "    <tr>\n",
              "      <th>2</th>\n",
              "      <td>1</td>\n",
              "      <td>TRANSFER</td>\n",
              "      <td>181.00</td>\n",
              "      <td>C1305486145</td>\n",
              "      <td>181.0</td>\n",
              "      <td>0.00</td>\n",
              "      <td>C553264065</td>\n",
              "      <td>0.0</td>\n",
              "      <td>0.0</td>\n",
              "      <td>1</td>\n",
              "      <td>0</td>\n",
              "    </tr>\n",
              "    <tr>\n",
              "      <th>3</th>\n",
              "      <td>1</td>\n",
              "      <td>CASH_OUT</td>\n",
              "      <td>181.00</td>\n",
              "      <td>C840083671</td>\n",
              "      <td>181.0</td>\n",
              "      <td>0.00</td>\n",
              "      <td>C38997010</td>\n",
              "      <td>21182.0</td>\n",
              "      <td>0.0</td>\n",
              "      <td>1</td>\n",
              "      <td>0</td>\n",
              "    </tr>\n",
              "    <tr>\n",
              "      <th>4</th>\n",
              "      <td>1</td>\n",
              "      <td>PAYMENT</td>\n",
              "      <td>11668.14</td>\n",
              "      <td>C2048537720</td>\n",
              "      <td>41554.0</td>\n",
              "      <td>29885.86</td>\n",
              "      <td>M1230701703</td>\n",
              "      <td>0.0</td>\n",
              "      <td>0.0</td>\n",
              "      <td>0</td>\n",
              "      <td>0</td>\n",
              "    </tr>\n",
              "  </tbody>\n",
              "</table>\n",
              "</div>"
            ],
            "text/plain": [
              "   step      type    amount  ... newbalanceDest  isFraud  isFlaggedFraud\n",
              "0     1   PAYMENT   9839.64  ...            0.0        0               0\n",
              "1     1   PAYMENT   1864.28  ...            0.0        0               0\n",
              "2     1  TRANSFER    181.00  ...            0.0        1               0\n",
              "3     1  CASH_OUT    181.00  ...            0.0        1               0\n",
              "4     1   PAYMENT  11668.14  ...            0.0        0               0\n",
              "\n",
              "[5 rows x 11 columns]"
            ]
          },
          "metadata": {
            "tags": []
          },
          "execution_count": 3
        }
      ]
    },
    {
      "cell_type": "markdown",
      "metadata": {
        "id": "yHyXT55NqDLF"
      },
      "source": [
        "###This is a binary classification problem statement."
      ]
    },
    {
      "cell_type": "markdown",
      "metadata": {
        "id": "WCA8jSYEozhZ"
      },
      "source": [
        "## EDA"
      ]
    },
    {
      "cell_type": "code",
      "metadata": {
        "id": "eVeY4PLWhNpz",
        "colab": {
          "base_uri": "https://localhost:8080/"
        },
        "outputId": "ab755974-d575-4d22-aae7-159fff9f4e61"
      },
      "source": [
        "df.shape"
      ],
      "execution_count": 4,
      "outputs": [
        {
          "output_type": "execute_result",
          "data": {
            "text/plain": [
              "(6362620, 11)"
            ]
          },
          "metadata": {
            "tags": []
          },
          "execution_count": 4
        }
      ]
    },
    {
      "cell_type": "code",
      "metadata": {
        "id": "TgJUnzZshNs7",
        "colab": {
          "base_uri": "https://localhost:8080/"
        },
        "outputId": "2430f7de-c9c1-4d2f-8b08-82418c44cf85"
      },
      "source": [
        "df.info()"
      ],
      "execution_count": 5,
      "outputs": [
        {
          "output_type": "stream",
          "text": [
            "<class 'pandas.core.frame.DataFrame'>\n",
            "RangeIndex: 6362620 entries, 0 to 6362619\n",
            "Data columns (total 11 columns):\n",
            " #   Column          Dtype  \n",
            "---  ------          -----  \n",
            " 0   step            int64  \n",
            " 1   type            object \n",
            " 2   amount          float64\n",
            " 3   nameOrig        object \n",
            " 4   oldbalanceOrg   float64\n",
            " 5   newbalanceOrig  float64\n",
            " 6   nameDest        object \n",
            " 7   oldbalanceDest  float64\n",
            " 8   newbalanceDest  float64\n",
            " 9   isFraud         int64  \n",
            " 10  isFlaggedFraud  int64  \n",
            "dtypes: float64(5), int64(3), object(3)\n",
            "memory usage: 534.0+ MB\n"
          ],
          "name": "stdout"
        }
      ]
    },
    {
      "cell_type": "code",
      "metadata": {
        "id": "2zg2ZHoChNvK",
        "colab": {
          "base_uri": "https://localhost:8080/"
        },
        "outputId": "321e8004-fafe-492c-ecf2-ec3440c9e1d7"
      },
      "source": [
        "df.isnull().sum()"
      ],
      "execution_count": 6,
      "outputs": [
        {
          "output_type": "execute_result",
          "data": {
            "text/plain": [
              "step              0\n",
              "type              0\n",
              "amount            0\n",
              "nameOrig          0\n",
              "oldbalanceOrg     0\n",
              "newbalanceOrig    0\n",
              "nameDest          0\n",
              "oldbalanceDest    0\n",
              "newbalanceDest    0\n",
              "isFraud           0\n",
              "isFlaggedFraud    0\n",
              "dtype: int64"
            ]
          },
          "metadata": {
            "tags": []
          },
          "execution_count": 6
        }
      ]
    },
    {
      "cell_type": "markdown",
      "metadata": {
        "id": "DoR5wGrmqZhx"
      },
      "source": [
        "Since it shows null vaues, there is no missing data in this dataset."
      ]
    },
    {
      "cell_type": "code",
      "metadata": {
        "id": "a8GSB2ensGq2",
        "colab": {
          "base_uri": "https://localhost:8080/"
        },
        "outputId": "8f37e4fc-a95f-494a-df92-088a41147f3a"
      },
      "source": [
        "df['isFraud'].value_counts()"
      ],
      "execution_count": 7,
      "outputs": [
        {
          "output_type": "execute_result",
          "data": {
            "text/plain": [
              "0    6354407\n",
              "1       8213\n",
              "Name: isFraud, dtype: int64"
            ]
          },
          "metadata": {
            "tags": []
          },
          "execution_count": 7
        }
      ]
    },
    {
      "cell_type": "markdown",
      "metadata": {
        "id": "gIIOfA_QsSl1"
      },
      "source": [
        "This shows that the dataset is purely imbalanced dataset."
      ]
    },
    {
      "cell_type": "code",
      "metadata": {
        "id": "-2dWJ0RfsNRN",
        "colab": {
          "base_uri": "https://localhost:8080/"
        },
        "outputId": "f9b692ad-c08e-44ac-849c-e0a2ad922aec"
      },
      "source": [
        "df['isFlaggedFraud'].value_counts()"
      ],
      "execution_count": 8,
      "outputs": [
        {
          "output_type": "execute_result",
          "data": {
            "text/plain": [
              "0    6362604\n",
              "1         16\n",
              "Name: isFlaggedFraud, dtype: int64"
            ]
          },
          "metadata": {
            "tags": []
          },
          "execution_count": 8
        }
      ]
    },
    {
      "cell_type": "markdown",
      "metadata": {
        "id": "gQ94h3fkvse5"
      },
      "source": [
        "i am going to drop the two features [nameOrig, nameDest]. Because these are like IDs. So it doesn't seems much important to the dataset."
      ]
    },
    {
      "cell_type": "code",
      "metadata": {
        "id": "bdjOe6BgwD3P",
        "colab": {
          "base_uri": "https://localhost:8080/",
          "height": 206
        },
        "outputId": "89c1d4fe-f325-4f83-ab46-de15f6f4ac4c"
      },
      "source": [
        "df.drop(['nameOrig', 'nameDest'], axis=1, inplace=True)\n",
        "df.head()"
      ],
      "execution_count": 10,
      "outputs": [
        {
          "output_type": "execute_result",
          "data": {
            "text/html": [
              "<div>\n",
              "<style scoped>\n",
              "    .dataframe tbody tr th:only-of-type {\n",
              "        vertical-align: middle;\n",
              "    }\n",
              "\n",
              "    .dataframe tbody tr th {\n",
              "        vertical-align: top;\n",
              "    }\n",
              "\n",
              "    .dataframe thead th {\n",
              "        text-align: right;\n",
              "    }\n",
              "</style>\n",
              "<table border=\"1\" class=\"dataframe\">\n",
              "  <thead>\n",
              "    <tr style=\"text-align: right;\">\n",
              "      <th></th>\n",
              "      <th>step</th>\n",
              "      <th>type</th>\n",
              "      <th>amount</th>\n",
              "      <th>oldbalanceOrg</th>\n",
              "      <th>newbalanceOrig</th>\n",
              "      <th>oldbalanceDest</th>\n",
              "      <th>newbalanceDest</th>\n",
              "      <th>isFraud</th>\n",
              "      <th>isFlaggedFraud</th>\n",
              "    </tr>\n",
              "  </thead>\n",
              "  <tbody>\n",
              "    <tr>\n",
              "      <th>0</th>\n",
              "      <td>1</td>\n",
              "      <td>PAYMENT</td>\n",
              "      <td>9839.64</td>\n",
              "      <td>170136.0</td>\n",
              "      <td>160296.36</td>\n",
              "      <td>0.0</td>\n",
              "      <td>0.0</td>\n",
              "      <td>0</td>\n",
              "      <td>0</td>\n",
              "    </tr>\n",
              "    <tr>\n",
              "      <th>1</th>\n",
              "      <td>1</td>\n",
              "      <td>PAYMENT</td>\n",
              "      <td>1864.28</td>\n",
              "      <td>21249.0</td>\n",
              "      <td>19384.72</td>\n",
              "      <td>0.0</td>\n",
              "      <td>0.0</td>\n",
              "      <td>0</td>\n",
              "      <td>0</td>\n",
              "    </tr>\n",
              "    <tr>\n",
              "      <th>2</th>\n",
              "      <td>1</td>\n",
              "      <td>TRANSFER</td>\n",
              "      <td>181.00</td>\n",
              "      <td>181.0</td>\n",
              "      <td>0.00</td>\n",
              "      <td>0.0</td>\n",
              "      <td>0.0</td>\n",
              "      <td>1</td>\n",
              "      <td>0</td>\n",
              "    </tr>\n",
              "    <tr>\n",
              "      <th>3</th>\n",
              "      <td>1</td>\n",
              "      <td>CASH_OUT</td>\n",
              "      <td>181.00</td>\n",
              "      <td>181.0</td>\n",
              "      <td>0.00</td>\n",
              "      <td>21182.0</td>\n",
              "      <td>0.0</td>\n",
              "      <td>1</td>\n",
              "      <td>0</td>\n",
              "    </tr>\n",
              "    <tr>\n",
              "      <th>4</th>\n",
              "      <td>1</td>\n",
              "      <td>PAYMENT</td>\n",
              "      <td>11668.14</td>\n",
              "      <td>41554.0</td>\n",
              "      <td>29885.86</td>\n",
              "      <td>0.0</td>\n",
              "      <td>0.0</td>\n",
              "      <td>0</td>\n",
              "      <td>0</td>\n",
              "    </tr>\n",
              "  </tbody>\n",
              "</table>\n",
              "</div>"
            ],
            "text/plain": [
              "   step      type    amount  ...  newbalanceDest  isFraud  isFlaggedFraud\n",
              "0     1   PAYMENT   9839.64  ...             0.0        0               0\n",
              "1     1   PAYMENT   1864.28  ...             0.0        0               0\n",
              "2     1  TRANSFER    181.00  ...             0.0        1               0\n",
              "3     1  CASH_OUT    181.00  ...             0.0        1               0\n",
              "4     1   PAYMENT  11668.14  ...             0.0        0               0\n",
              "\n",
              "[5 rows x 9 columns]"
            ]
          },
          "metadata": {
            "tags": []
          },
          "execution_count": 10
        }
      ]
    },
    {
      "cell_type": "markdown",
      "metadata": {
        "id": "11G962mOrPby"
      },
      "source": [
        "##Data Visualization"
      ]
    },
    {
      "cell_type": "code",
      "metadata": {
        "id": "QZT1x4iVhN1M",
        "colab": {
          "base_uri": "https://localhost:8080/",
          "height": 308
        },
        "outputId": "ac677f11-098b-4ce6-d2e9-3cecce07498a"
      },
      "source": [
        "sns.set_style('whitegrid')\n",
        "sns.countplot(x='isFraud', data=df)"
      ],
      "execution_count": 11,
      "outputs": [
        {
          "output_type": "execute_result",
          "data": {
            "text/plain": [
              "<matplotlib.axes._subplots.AxesSubplot at 0x7f8ddf648a10>"
            ]
          },
          "metadata": {
            "tags": []
          },
          "execution_count": 11
        },
        {
          "output_type": "display_data",
          "data": {
            "image/png": "[encoded data removed]",
            "text/plain": [
              "<Figure size 432x288 with 1 Axes>"
            ]
          },
          "metadata": {
            "tags": []
          }
        }
      ]
    },
    {
      "cell_type": "code",
      "metadata": {
        "id": "x4n0JwPYhN4Z",
        "colab": {
          "base_uri": "https://localhost:8080/",
          "height": 308
        },
        "outputId": "b737af8b-183b-4d94-b4be-a160cfa93c9b"
      },
      "source": [
        "sns.set_style('whitegrid')\n",
        "sns.countplot(x='isFlaggedFraud', data=df)"
      ],
      "execution_count": 12,
      "outputs": [
        {
          "output_type": "execute_result",
          "data": {
            "text/plain": [
              "<matplotlib.axes._subplots.AxesSubplot at 0x7f8ddf460a90>"
            ]
          },
          "metadata": {
            "tags": []
          },
          "execution_count": 12
        },
        {
          "output_type": "display_data",
          "data": {
            "image/png": "[encoded data removed]",
            "text/plain": [
              "<Figure size 432x288 with 1 Axes>"
            ]
          },
          "metadata": {
            "tags": []
          }
        }
      ]
    },
    {
      "cell_type": "code",
      "metadata": {
        "id": "HABORzCShN7a",
        "colab": {
          "base_uri": "https://localhost:8080/",
          "height": 352
        },
        "outputId": "9de61d42-d1c3-4cf6-ce82-f4d08eada08c"
      },
      "source": [
        "sns.countplot(data = df, x = \"type\",hue = \"isFraud\")\n",
        "plt.xticks(rotation =90)"
      ],
      "execution_count": 13,
      "outputs": [
        {
          "output_type": "execute_result",
          "data": {
            "text/plain": [
              "(array([0, 1, 2, 3, 4]), <a list of 5 Text major ticklabel objects>)"
            ]
          },
          "metadata": {
            "tags": []
          },
          "execution_count": 13
        },
        {
          "output_type": "display_data",
          "data": {
            "image/png": "[encoded data removed]",
            "text/plain": [
              "<Figure size 432x288 with 1 Axes>"
            ]
          },
          "metadata": {
            "tags": []
          }
        }
      ]
    },
    {
      "cell_type": "code",
      "metadata": {
        "id": "EcVPR-99tMav",
        "colab": {
          "base_uri": "https://localhost:8080/",
          "height": 352
        },
        "outputId": "99fababd-d262-4f55-84b6-001e362297c4"
      },
      "source": [
        "sns.countplot(data = df, x = \"type\",hue = \"isFlaggedFraud\")\n",
        "plt.xticks(rotation =90)"
      ],
      "execution_count": 14,
      "outputs": [
        {
          "output_type": "execute_result",
          "data": {
            "text/plain": [
              "(array([0, 1, 2, 3, 4]), <a list of 5 Text major ticklabel objects>)"
            ]
          },
          "metadata": {
            "tags": []
          },
          "execution_count": 14
        },
        {
          "output_type": "display_data",
          "data": {
            "image/png": "[encoded data removed]",
            "text/plain": [
              "<Figure size 432x288 with 1 Axes>"
            ]
          },
          "metadata": {
            "tags": []
          }
        }
      ]
    },
    {
      "cell_type": "code",
      "metadata": {
        "colab": {
          "base_uri": "https://localhost:8080/",
          "height": 316
        },
        "id": "HqIdPiBREsTB",
        "outputId": "d3e4a373-254a-4ed6-9861-9ef87bf1e5b0"
      },
      "source": [
        "#Distribution of the frequency of all transactions\n",
        "plt.figure(figsize=(10, 3))\n",
        "sns.distplot(df.step)\n",
        "plt.title('Distribution of Transactions over the Time')"
      ],
      "execution_count": 15,
      "outputs": [
        {
          "output_type": "stream",
          "text": [
            "/usr/local/lib/python3.7/dist-packages/seaborn/distributions.py:2557: FutureWarning: `distplot` is a deprecated function and will be removed in a future version. Please adapt your code to use either `displot` (a figure-level function with similar flexibility) or `histplot` (an axes-level function for histograms).\n",
            "  warnings.warn(msg, FutureWarning)\n"
          ],
          "name": "stderr"
        },
        {
          "output_type": "execute_result",
          "data": {
            "text/plain": [
              "Text(0.5, 1.0, 'Distribution of Transactions over the Time')"
            ]
          },
          "metadata": {
            "tags": []
          },
          "execution_count": 15
        },
        {
          "output_type": "display_data",
          "data": {
            "image/png": "[encoded data removed]",
            "text/plain": [
              "<Figure size 720x216 with 1 Axes>"
            ]
          },
          "metadata": {
            "tags": []
          }
        }
      ]
    },
    {
      "cell_type": "markdown",
      "metadata": {
        "id": "st2SihdGE2Mh"
      },
      "source": [
        "Distrubition plot shows number of transactions occured each hour (step). There are drastic changes in the number of transactions happens time to time."
      ]
    },
    {
      "cell_type": "code",
      "metadata": {
        "id": "qUNMpYE7EsZh"
      },
      "source": [
        " # Filter data by the labels and examine two groups compairing each other --- Safe and Fraud transaction\n",
        "safe = df[df['isFraud']==0]\n",
        "fraud = df[df['isFraud']==1]"
      ],
      "execution_count": 16,
      "outputs": []
    },
    {
      "cell_type": "code",
      "metadata": {
        "colab": {
          "base_uri": "https://localhost:8080/",
          "height": 353
        },
        "id": "h8Nyk1RVEsfp",
        "outputId": "c20107ce-1969-4f01-ff01-8f5028d8c160"
      },
      "source": [
        "#See the frequency of the transactions for each class on the same plot.\n",
        "plt.figure(figsize=(10, 3))\n",
        "sns.distplot(safe.step, label=\"Safe Transaction\")\n",
        "sns.distplot(fraud.step, label='Fraud Transaction')\n",
        "plt.xlabel('Hour')\n",
        "plt.ylabel('Number of Transactions')\n",
        "plt.title('Distribution of Transactions over the Time')\n",
        "plt.legend()"
      ],
      "execution_count": 17,
      "outputs": [
        {
          "output_type": "stream",
          "text": [
            "/usr/local/lib/python3.7/dist-packages/seaborn/distributions.py:2557: FutureWarning: `distplot` is a deprecated function and will be removed in a future version. Please adapt your code to use either `displot` (a figure-level function with similar flexibility) or `histplot` (an axes-level function for histograms).\n",
            "  warnings.warn(msg, FutureWarning)\n",
            "/usr/local/lib/python3.7/dist-packages/seaborn/distributions.py:2557: FutureWarning: `distplot` is a deprecated function and will be removed in a future version. Please adapt your code to use either `displot` (a figure-level function with similar flexibility) or `histplot` (an axes-level function for histograms).\n",
            "  warnings.warn(msg, FutureWarning)\n"
          ],
          "name": "stderr"
        },
        {
          "output_type": "execute_result",
          "data": {
            "text/plain": [
              "<matplotlib.legend.Legend at 0x7f8dddb9c0d0>"
            ]
          },
          "metadata": {
            "tags": []
          },
          "execution_count": 17
        },
        {
          "output_type": "display_data",
          "data": {
            "image/png": "[encoded data removed]",
            "text/plain": [
              "<Figure size 720x216 with 1 Axes>"
            ]
          },
          "metadata": {
            "tags": []
          }
        }
      ]
    },
    {
      "cell_type": "code",
      "metadata": {
        "colab": {
          "base_uri": "https://localhost:8080/",
          "height": 316
        },
        "id": "_2jaJNL-Eskg",
        "outputId": "33b7e851-b766-4cbe-95b1-a738ead8846d"
      },
      "source": [
        "#safe transactions amount distribution plot\n",
        "plt.figure(figsize=(10,3))\n",
        "plt.ylim(0, 0.0000000075)\n",
        "plt.title('Safe Transaction Amount Distribution')\n",
        "sns.distplot(safe.amount)"
      ],
      "execution_count": 18,
      "outputs": [
        {
          "output_type": "stream",
          "text": [
            "/usr/local/lib/python3.7/dist-packages/seaborn/distributions.py:2557: FutureWarning: `distplot` is a deprecated function and will be removed in a future version. Please adapt your code to use either `displot` (a figure-level function with similar flexibility) or `histplot` (an axes-level function for histograms).\n",
            "  warnings.warn(msg, FutureWarning)\n"
          ],
          "name": "stderr"
        },
        {
          "output_type": "execute_result",
          "data": {
            "text/plain": [
              "<matplotlib.axes._subplots.AxesSubplot at 0x7f8dddb91790>"
            ]
          },
          "metadata": {
            "tags": []
          },
          "execution_count": 18
        },
        {
          "output_type": "display_data",
          "data": {
            "image/png": "[encoded data removed]",
            "text/plain": [
              "<Figure size 720x216 with 1 Axes>"
            ]
          },
          "metadata": {
            "tags": []
          }
        }
      ]
    },
    {
      "cell_type": "code",
      "metadata": {
        "colab": {
          "base_uri": "https://localhost:8080/",
          "height": 316
        },
        "id": "AA64mWvPEsph",
        "outputId": "b4a1a5b7-068e-4c46-f4a0-ed72ba834fea"
      },
      "source": [
        "# Fraud transactions amount distribution plot\n",
        "plt.figure(figsize=(10,3))\n",
        "plt.title('Fraud Transaction Amount Distribution')\n",
        "sns.distplot(fraud.amount)"
      ],
      "execution_count": 19,
      "outputs": [
        {
          "output_type": "stream",
          "text": [
            "/usr/local/lib/python3.7/dist-packages/seaborn/distributions.py:2557: FutureWarning: `distplot` is a deprecated function and will be removed in a future version. Please adapt your code to use either `displot` (a figure-level function with similar flexibility) or `histplot` (an axes-level function for histograms).\n",
            "  warnings.warn(msg, FutureWarning)\n"
          ],
          "name": "stderr"
        },
        {
          "output_type": "execute_result",
          "data": {
            "text/plain": [
              "<matplotlib.axes._subplots.AxesSubplot at 0x7f8dd303acd0>"
            ]
          },
          "metadata": {
            "tags": []
          },
          "execution_count": 19
        },
        {
          "output_type": "display_data",
          "data": {
            "image/png": "[encoded data removed]",
            "text/plain": [
              "<Figure size 720x216 with 1 Axes>"
            ]
          },
          "metadata": {
            "tags": []
          }
        }
      ]
    },
    {
      "cell_type": "code",
      "metadata": {
        "colab": {
          "base_uri": "https://localhost:8080/"
        },
        "id": "n2m7Ng9sEsvU",
        "outputId": "14c7d8cc-fd72-42e7-89c6-edfcf1de26c2"
      },
      "source": [
        "# fraud transactions amount value counts\n",
        "fraud.amount.value_counts()"
      ],
      "execution_count": 20,
      "outputs": [
        {
          "output_type": "execute_result",
          "data": {
            "text/plain": [
              "10000000.00    287\n",
              "0.00            16\n",
              "429257.45        4\n",
              "1165187.89       4\n",
              "76646.05         2\n",
              "              ... \n",
              "3576297.10       1\n",
              "23292.30         1\n",
              "1078013.76       1\n",
              "112486.46        1\n",
              "4892193.09       1\n",
              "Name: amount, Length: 3977, dtype: int64"
            ]
          },
          "metadata": {
            "tags": []
          },
          "execution_count": 20
        }
      ]
    },
    {
      "cell_type": "code",
      "metadata": {
        "colab": {
          "base_uri": "https://localhost:8080/",
          "height": 241
        },
        "id": "JdETOMfhGODx",
        "outputId": "f8e6ca12-664f-4798-c77c-efa23029050d"
      },
      "source": [
        "#Fraud transaction boxplot for amount distribution\n",
        "plt.figure(figsize=(10,3))\n",
        "plt.title('Fraud Transaction Amount Distribution')\n",
        "ax = sns.boxplot(x=fraud[\"amount\"])"
      ],
      "execution_count": 21,
      "outputs": [
        {
          "output_type": "display_data",
          "data": {
            "image/png": "[encoded data removed]",
            "text/plain": [
              "<Figure size 720x216 with 1 Axes>"
            ]
          },
          "metadata": {
            "tags": []
          }
        }
      ]
    },
    {
      "cell_type": "code",
      "metadata": {
        "colab": {
          "base_uri": "https://localhost:8080/",
          "height": 571
        },
        "id": "xteRgb7VGvbl",
        "outputId": "02509019-557a-457b-ef9c-716b08799443"
      },
      "source": [
        "#checking \"0\" in the fraud  amount\n",
        "fraud[fraud.amount==0]"
      ],
      "execution_count": 22,
      "outputs": [
        {
          "output_type": "execute_result",
          "data": {
            "text/html": [
              "<div>\n",
              "<style scoped>\n",
              "    .dataframe tbody tr th:only-of-type {\n",
              "        vertical-align: middle;\n",
              "    }\n",
              "\n",
              "    .dataframe tbody tr th {\n",
              "        vertical-align: top;\n",
              "    }\n",
              "\n",
              "    .dataframe thead th {\n",
              "        text-align: right;\n",
              "    }\n",
              "</style>\n",
              "<table border=\"1\" class=\"dataframe\">\n",
              "  <thead>\n",
              "    <tr style=\"text-align: right;\">\n",
              "      <th></th>\n",
              "      <th>step</th>\n",
              "      <th>type</th>\n",
              "      <th>amount</th>\n",
              "      <th>oldbalanceOrg</th>\n",
              "      <th>newbalanceOrig</th>\n",
              "      <th>oldbalanceDest</th>\n",
              "      <th>newbalanceDest</th>\n",
              "      <th>isFraud</th>\n",
              "      <th>isFlaggedFraud</th>\n",
              "    </tr>\n",
              "  </thead>\n",
              "  <tbody>\n",
              "    <tr>\n",
              "      <th>2736447</th>\n",
              "      <td>212</td>\n",
              "      <td>CASH_OUT</td>\n",
              "      <td>0.0</td>\n",
              "      <td>0.0</td>\n",
              "      <td>0.0</td>\n",
              "      <td>0.00</td>\n",
              "      <td>0.00</td>\n",
              "      <td>1</td>\n",
              "      <td>0</td>\n",
              "    </tr>\n",
              "    <tr>\n",
              "      <th>3247298</th>\n",
              "      <td>250</td>\n",
              "      <td>CASH_OUT</td>\n",
              "      <td>0.0</td>\n",
              "      <td>0.0</td>\n",
              "      <td>0.0</td>\n",
              "      <td>0.00</td>\n",
              "      <td>0.00</td>\n",
              "      <td>1</td>\n",
              "      <td>0</td>\n",
              "    </tr>\n",
              "    <tr>\n",
              "      <th>3760289</th>\n",
              "      <td>279</td>\n",
              "      <td>CASH_OUT</td>\n",
              "      <td>0.0</td>\n",
              "      <td>0.0</td>\n",
              "      <td>0.0</td>\n",
              "      <td>538547.63</td>\n",
              "      <td>538547.63</td>\n",
              "      <td>1</td>\n",
              "      <td>0</td>\n",
              "    </tr>\n",
              "    <tr>\n",
              "      <th>5563714</th>\n",
              "      <td>387</td>\n",
              "      <td>CASH_OUT</td>\n",
              "      <td>0.0</td>\n",
              "      <td>0.0</td>\n",
              "      <td>0.0</td>\n",
              "      <td>7970766.57</td>\n",
              "      <td>7970766.57</td>\n",
              "      <td>1</td>\n",
              "      <td>0</td>\n",
              "    </tr>\n",
              "    <tr>\n",
              "      <th>5996408</th>\n",
              "      <td>425</td>\n",
              "      <td>CASH_OUT</td>\n",
              "      <td>0.0</td>\n",
              "      <td>0.0</td>\n",
              "      <td>0.0</td>\n",
              "      <td>76759.90</td>\n",
              "      <td>76759.90</td>\n",
              "      <td>1</td>\n",
              "      <td>0</td>\n",
              "    </tr>\n",
              "    <tr>\n",
              "      <th>5996410</th>\n",
              "      <td>425</td>\n",
              "      <td>CASH_OUT</td>\n",
              "      <td>0.0</td>\n",
              "      <td>0.0</td>\n",
              "      <td>0.0</td>\n",
              "      <td>2921531.34</td>\n",
              "      <td>2921531.34</td>\n",
              "      <td>1</td>\n",
              "      <td>0</td>\n",
              "    </tr>\n",
              "    <tr>\n",
              "      <th>6168500</th>\n",
              "      <td>554</td>\n",
              "      <td>CASH_OUT</td>\n",
              "      <td>0.0</td>\n",
              "      <td>0.0</td>\n",
              "      <td>0.0</td>\n",
              "      <td>230289.66</td>\n",
              "      <td>230289.66</td>\n",
              "      <td>1</td>\n",
              "      <td>0</td>\n",
              "    </tr>\n",
              "    <tr>\n",
              "      <th>6205440</th>\n",
              "      <td>586</td>\n",
              "      <td>CASH_OUT</td>\n",
              "      <td>0.0</td>\n",
              "      <td>0.0</td>\n",
              "      <td>0.0</td>\n",
              "      <td>1328472.86</td>\n",
              "      <td>1328472.86</td>\n",
              "      <td>1</td>\n",
              "      <td>0</td>\n",
              "    </tr>\n",
              "    <tr>\n",
              "      <th>6266414</th>\n",
              "      <td>617</td>\n",
              "      <td>CASH_OUT</td>\n",
              "      <td>0.0</td>\n",
              "      <td>0.0</td>\n",
              "      <td>0.0</td>\n",
              "      <td>0.00</td>\n",
              "      <td>0.00</td>\n",
              "      <td>1</td>\n",
              "      <td>0</td>\n",
              "    </tr>\n",
              "    <tr>\n",
              "      <th>6281483</th>\n",
              "      <td>646</td>\n",
              "      <td>CASH_OUT</td>\n",
              "      <td>0.0</td>\n",
              "      <td>0.0</td>\n",
              "      <td>0.0</td>\n",
              "      <td>0.00</td>\n",
              "      <td>0.00</td>\n",
              "      <td>1</td>\n",
              "      <td>0</td>\n",
              "    </tr>\n",
              "    <tr>\n",
              "      <th>6281485</th>\n",
              "      <td>646</td>\n",
              "      <td>CASH_OUT</td>\n",
              "      <td>0.0</td>\n",
              "      <td>0.0</td>\n",
              "      <td>0.0</td>\n",
              "      <td>0.00</td>\n",
              "      <td>0.00</td>\n",
              "      <td>1</td>\n",
              "      <td>0</td>\n",
              "    </tr>\n",
              "    <tr>\n",
              "      <th>6296015</th>\n",
              "      <td>671</td>\n",
              "      <td>CASH_OUT</td>\n",
              "      <td>0.0</td>\n",
              "      <td>0.0</td>\n",
              "      <td>0.0</td>\n",
              "      <td>27938.72</td>\n",
              "      <td>27938.72</td>\n",
              "      <td>1</td>\n",
              "      <td>0</td>\n",
              "    </tr>\n",
              "    <tr>\n",
              "      <th>6351226</th>\n",
              "      <td>702</td>\n",
              "      <td>CASH_OUT</td>\n",
              "      <td>0.0</td>\n",
              "      <td>0.0</td>\n",
              "      <td>0.0</td>\n",
              "      <td>107777.02</td>\n",
              "      <td>107777.02</td>\n",
              "      <td>1</td>\n",
              "      <td>0</td>\n",
              "    </tr>\n",
              "    <tr>\n",
              "      <th>6362461</th>\n",
              "      <td>730</td>\n",
              "      <td>CASH_OUT</td>\n",
              "      <td>0.0</td>\n",
              "      <td>0.0</td>\n",
              "      <td>0.0</td>\n",
              "      <td>1008609.53</td>\n",
              "      <td>1008609.53</td>\n",
              "      <td>1</td>\n",
              "      <td>0</td>\n",
              "    </tr>\n",
              "    <tr>\n",
              "      <th>6362463</th>\n",
              "      <td>730</td>\n",
              "      <td>CASH_OUT</td>\n",
              "      <td>0.0</td>\n",
              "      <td>0.0</td>\n",
              "      <td>0.0</td>\n",
              "      <td>0.00</td>\n",
              "      <td>0.00</td>\n",
              "      <td>1</td>\n",
              "      <td>0</td>\n",
              "    </tr>\n",
              "    <tr>\n",
              "      <th>6362585</th>\n",
              "      <td>741</td>\n",
              "      <td>CASH_OUT</td>\n",
              "      <td>0.0</td>\n",
              "      <td>0.0</td>\n",
              "      <td>0.0</td>\n",
              "      <td>267522.87</td>\n",
              "      <td>267522.87</td>\n",
              "      <td>1</td>\n",
              "      <td>0</td>\n",
              "    </tr>\n",
              "  </tbody>\n",
              "</table>\n",
              "</div>"
            ],
            "text/plain": [
              "         step      type  amount  ...  newbalanceDest  isFraud  isFlaggedFraud\n",
              "2736447   212  CASH_OUT     0.0  ...            0.00        1               0\n",
              "3247298   250  CASH_OUT     0.0  ...            0.00        1               0\n",
              "3760289   279  CASH_OUT     0.0  ...       538547.63        1               0\n",
              "5563714   387  CASH_OUT     0.0  ...      7970766.57        1               0\n",
              "5996408   425  CASH_OUT     0.0  ...        76759.90        1               0\n",
              "5996410   425  CASH_OUT     0.0  ...      2921531.34        1               0\n",
              "6168500   554  CASH_OUT     0.0  ...       230289.66        1               0\n",
              "6205440   586  CASH_OUT     0.0  ...      1328472.86        1               0\n",
              "6266414   617  CASH_OUT     0.0  ...            0.00        1               0\n",
              "6281483   646  CASH_OUT     0.0  ...            0.00        1               0\n",
              "6281485   646  CASH_OUT     0.0  ...            0.00        1               0\n",
              "6296015   671  CASH_OUT     0.0  ...        27938.72        1               0\n",
              "6351226   702  CASH_OUT     0.0  ...       107777.02        1               0\n",
              "6362461   730  CASH_OUT     0.0  ...      1008609.53        1               0\n",
              "6362463   730  CASH_OUT     0.0  ...            0.00        1               0\n",
              "6362585   741  CASH_OUT     0.0  ...       267522.87        1               0\n",
              "\n",
              "[16 rows x 9 columns]"
            ]
          },
          "metadata": {
            "tags": []
          },
          "execution_count": 22
        }
      ]
    },
    {
      "cell_type": "markdown",
      "metadata": {
        "id": "QhUco35FGi38"
      },
      "source": [
        "fraud amount == 0. They are definetely not correct data. But it might have some sort of value such as creating some noise in the transaction traffic to make the real fraud not to be noticed. For that reason I will keep this data."
      ]
    },
    {
      "cell_type": "code",
      "metadata": {
        "colab": {
          "base_uri": "https://localhost:8080/"
        },
        "id": "xtvl7TiAGOQ6",
        "outputId": "e4c5c379-3e42-47ad-ec76-5b498ce8cc12"
      },
      "source": [
        "#checking type of  safe transactions\n",
        "safe.type.value_counts()"
      ],
      "execution_count": 23,
      "outputs": [
        {
          "output_type": "execute_result",
          "data": {
            "text/plain": [
              "CASH_OUT    2233384\n",
              "PAYMENT     2151495\n",
              "CASH_IN     1399284\n",
              "TRANSFER     528812\n",
              "DEBIT         41432\n",
              "Name: type, dtype: int64"
            ]
          },
          "metadata": {
            "tags": []
          },
          "execution_count": 23
        }
      ]
    },
    {
      "cell_type": "code",
      "metadata": {
        "colab": {
          "base_uri": "https://localhost:8080/"
        },
        "id": "Noj6UyjRGOVb",
        "outputId": "18c86e96-57ab-4b3c-dd53-19533d99f859"
      },
      "source": [
        "#checking type of fraud transactions\n",
        "fraud.type.value_counts()"
      ],
      "execution_count": 24,
      "outputs": [
        {
          "output_type": "execute_result",
          "data": {
            "text/plain": [
              "CASH_OUT    4116\n",
              "TRANSFER    4097\n",
              "Name: type, dtype: int64"
            ]
          },
          "metadata": {
            "tags": []
          },
          "execution_count": 24
        }
      ]
    },
    {
      "cell_type": "markdown",
      "metadata": {
        "id": "nQAqXIRUHAF2"
      },
      "source": [
        "Fraud activities only happens with transfer and cash_out transactions. Debit usage is very safe. It will be better to use only Transfer and Cash_out transaction data for our model since the other types has no fraud."
      ]
    },
    {
      "cell_type": "code",
      "metadata": {
        "colab": {
          "base_uri": "https://localhost:8080/",
          "height": 1000
        },
        "id": "VSCmwolbGOZN",
        "outputId": "685e5f89-3d39-4b85-8945-82caabee9add"
      },
      "source": [
        "df.hist(figsize=(30,30))"
      ],
      "execution_count": 26,
      "outputs": [
        {
          "output_type": "execute_result",
          "data": {
            "text/plain": [
              "array([[<matplotlib.axes._subplots.AxesSubplot object at 0x7f8dd2af8d10>,\n",
              "        <matplotlib.axes._subplots.AxesSubplot object at 0x7f8dd2ab7e90>,\n",
              "        <matplotlib.axes._subplots.AxesSubplot object at 0x7f8dd2a61510>],\n",
              "       [<matplotlib.axes._subplots.AxesSubplot object at 0x7f8dd2a18b90>,\n",
              "        <matplotlib.axes._subplots.AxesSubplot object at 0x7f8dd29d9250>,\n",
              "        <matplotlib.axes._subplots.AxesSubplot object at 0x7f8dd298e8d0>],\n",
              "       [<matplotlib.axes._subplots.AxesSubplot object at 0x7f8dd2942fd0>,\n",
              "        <matplotlib.axes._subplots.AxesSubplot object at 0x7f8dd29045d0>,\n",
              "        <matplotlib.axes._subplots.AxesSubplot object at 0x7f8dd2904610>]],\n",
              "      dtype=object)"
            ]
          },
          "metadata": {
            "tags": []
          },
          "execution_count": 26
        },
        {
          "output_type": "display_data",
          "data": {
            "image/png": "[encoded data removed]",
            "text/plain": [
              "<Figure size 2160x2160 with 9 Axes>"
            ]
          },
          "metadata": {
            "tags": []
          }
        }
      ]
    },
    {
      "cell_type": "markdown",
      "metadata": {
        "id": "Wexi91SMHfAC"
      },
      "source": [
        "All the variables in this dataset are pretty skewed. It might be problem in the model but we will see."
      ]
    },
    {
      "cell_type": "code",
      "metadata": {
        "colab": {
          "base_uri": "https://localhost:8080/"
        },
        "id": "RQLG8z39GOfG",
        "outputId": "bb45616c-13e7-4a51-d8cd-8a00702f281c"
      },
      "source": [
        "#value counts of isFlaggedFraud column\n",
        "df.isFlaggedFraud.value_counts()"
      ],
      "execution_count": 27,
      "outputs": [
        {
          "output_type": "execute_result",
          "data": {
            "text/plain": [
              "0    6362604\n",
              "1         16\n",
              "Name: isFlaggedFraud, dtype: int64"
            ]
          },
          "metadata": {
            "tags": []
          },
          "execution_count": 27
        }
      ]
    },
    {
      "cell_type": "code",
      "metadata": {
        "colab": {
          "base_uri": "https://localhost:8080/",
          "height": 571
        },
        "id": "z97FJ9mvHxhJ",
        "outputId": "13490920-dd3f-4ecf-9a4d-014b190b3929"
      },
      "source": [
        "#there are only 16 positive value. lets see which ones they are. \n",
        "df[df.isFlaggedFraud==1]"
      ],
      "execution_count": 28,
      "outputs": [
        {
          "output_type": "execute_result",
          "data": {
            "text/html": [
              "<div>\n",
              "<style scoped>\n",
              "    .dataframe tbody tr th:only-of-type {\n",
              "        vertical-align: middle;\n",
              "    }\n",
              "\n",
              "    .dataframe tbody tr th {\n",
              "        vertical-align: top;\n",
              "    }\n",
              "\n",
              "    .dataframe thead th {\n",
              "        text-align: right;\n",
              "    }\n",
              "</style>\n",
              "<table border=\"1\" class=\"dataframe\">\n",
              "  <thead>\n",
              "    <tr style=\"text-align: right;\">\n",
              "      <th></th>\n",
              "      <th>step</th>\n",
              "      <th>type</th>\n",
              "      <th>amount</th>\n",
              "      <th>oldbalanceOrg</th>\n",
              "      <th>newbalanceOrig</th>\n",
              "      <th>oldbalanceDest</th>\n",
              "      <th>newbalanceDest</th>\n",
              "      <th>isFraud</th>\n",
              "      <th>isFlaggedFraud</th>\n",
              "    </tr>\n",
              "  </thead>\n",
              "  <tbody>\n",
              "    <tr>\n",
              "      <th>2736446</th>\n",
              "      <td>212</td>\n",
              "      <td>TRANSFER</td>\n",
              "      <td>4953893.08</td>\n",
              "      <td>4953893.08</td>\n",
              "      <td>4953893.08</td>\n",
              "      <td>0.0</td>\n",
              "      <td>0.0</td>\n",
              "      <td>1</td>\n",
              "      <td>1</td>\n",
              "    </tr>\n",
              "    <tr>\n",
              "      <th>3247297</th>\n",
              "      <td>250</td>\n",
              "      <td>TRANSFER</td>\n",
              "      <td>1343002.08</td>\n",
              "      <td>1343002.08</td>\n",
              "      <td>1343002.08</td>\n",
              "      <td>0.0</td>\n",
              "      <td>0.0</td>\n",
              "      <td>1</td>\n",
              "      <td>1</td>\n",
              "    </tr>\n",
              "    <tr>\n",
              "      <th>3760288</th>\n",
              "      <td>279</td>\n",
              "      <td>TRANSFER</td>\n",
              "      <td>536624.41</td>\n",
              "      <td>536624.41</td>\n",
              "      <td>536624.41</td>\n",
              "      <td>0.0</td>\n",
              "      <td>0.0</td>\n",
              "      <td>1</td>\n",
              "      <td>1</td>\n",
              "    </tr>\n",
              "    <tr>\n",
              "      <th>5563713</th>\n",
              "      <td>387</td>\n",
              "      <td>TRANSFER</td>\n",
              "      <td>4892193.09</td>\n",
              "      <td>4892193.09</td>\n",
              "      <td>4892193.09</td>\n",
              "      <td>0.0</td>\n",
              "      <td>0.0</td>\n",
              "      <td>1</td>\n",
              "      <td>1</td>\n",
              "    </tr>\n",
              "    <tr>\n",
              "      <th>5996407</th>\n",
              "      <td>425</td>\n",
              "      <td>TRANSFER</td>\n",
              "      <td>10000000.00</td>\n",
              "      <td>19585040.37</td>\n",
              "      <td>19585040.37</td>\n",
              "      <td>0.0</td>\n",
              "      <td>0.0</td>\n",
              "      <td>1</td>\n",
              "      <td>1</td>\n",
              "    </tr>\n",
              "    <tr>\n",
              "      <th>5996409</th>\n",
              "      <td>425</td>\n",
              "      <td>TRANSFER</td>\n",
              "      <td>9585040.37</td>\n",
              "      <td>19585040.37</td>\n",
              "      <td>19585040.37</td>\n",
              "      <td>0.0</td>\n",
              "      <td>0.0</td>\n",
              "      <td>1</td>\n",
              "      <td>1</td>\n",
              "    </tr>\n",
              "    <tr>\n",
              "      <th>6168499</th>\n",
              "      <td>554</td>\n",
              "      <td>TRANSFER</td>\n",
              "      <td>3576297.10</td>\n",
              "      <td>3576297.10</td>\n",
              "      <td>3576297.10</td>\n",
              "      <td>0.0</td>\n",
              "      <td>0.0</td>\n",
              "      <td>1</td>\n",
              "      <td>1</td>\n",
              "    </tr>\n",
              "    <tr>\n",
              "      <th>6205439</th>\n",
              "      <td>586</td>\n",
              "      <td>TRANSFER</td>\n",
              "      <td>353874.22</td>\n",
              "      <td>353874.22</td>\n",
              "      <td>353874.22</td>\n",
              "      <td>0.0</td>\n",
              "      <td>0.0</td>\n",
              "      <td>1</td>\n",
              "      <td>1</td>\n",
              "    </tr>\n",
              "    <tr>\n",
              "      <th>6266413</th>\n",
              "      <td>617</td>\n",
              "      <td>TRANSFER</td>\n",
              "      <td>2542664.27</td>\n",
              "      <td>2542664.27</td>\n",
              "      <td>2542664.27</td>\n",
              "      <td>0.0</td>\n",
              "      <td>0.0</td>\n",
              "      <td>1</td>\n",
              "      <td>1</td>\n",
              "    </tr>\n",
              "    <tr>\n",
              "      <th>6281482</th>\n",
              "      <td>646</td>\n",
              "      <td>TRANSFER</td>\n",
              "      <td>10000000.00</td>\n",
              "      <td>10399045.08</td>\n",
              "      <td>10399045.08</td>\n",
              "      <td>0.0</td>\n",
              "      <td>0.0</td>\n",
              "      <td>1</td>\n",
              "      <td>1</td>\n",
              "    </tr>\n",
              "    <tr>\n",
              "      <th>6281484</th>\n",
              "      <td>646</td>\n",
              "      <td>TRANSFER</td>\n",
              "      <td>399045.08</td>\n",
              "      <td>10399045.08</td>\n",
              "      <td>10399045.08</td>\n",
              "      <td>0.0</td>\n",
              "      <td>0.0</td>\n",
              "      <td>1</td>\n",
              "      <td>1</td>\n",
              "    </tr>\n",
              "    <tr>\n",
              "      <th>6296014</th>\n",
              "      <td>671</td>\n",
              "      <td>TRANSFER</td>\n",
              "      <td>3441041.46</td>\n",
              "      <td>3441041.46</td>\n",
              "      <td>3441041.46</td>\n",
              "      <td>0.0</td>\n",
              "      <td>0.0</td>\n",
              "      <td>1</td>\n",
              "      <td>1</td>\n",
              "    </tr>\n",
              "    <tr>\n",
              "      <th>6351225</th>\n",
              "      <td>702</td>\n",
              "      <td>TRANSFER</td>\n",
              "      <td>3171085.59</td>\n",
              "      <td>3171085.59</td>\n",
              "      <td>3171085.59</td>\n",
              "      <td>0.0</td>\n",
              "      <td>0.0</td>\n",
              "      <td>1</td>\n",
              "      <td>1</td>\n",
              "    </tr>\n",
              "    <tr>\n",
              "      <th>6362460</th>\n",
              "      <td>730</td>\n",
              "      <td>TRANSFER</td>\n",
              "      <td>10000000.00</td>\n",
              "      <td>17316255.05</td>\n",
              "      <td>17316255.05</td>\n",
              "      <td>0.0</td>\n",
              "      <td>0.0</td>\n",
              "      <td>1</td>\n",
              "      <td>1</td>\n",
              "    </tr>\n",
              "    <tr>\n",
              "      <th>6362462</th>\n",
              "      <td>730</td>\n",
              "      <td>TRANSFER</td>\n",
              "      <td>7316255.05</td>\n",
              "      <td>17316255.05</td>\n",
              "      <td>17316255.05</td>\n",
              "      <td>0.0</td>\n",
              "      <td>0.0</td>\n",
              "      <td>1</td>\n",
              "      <td>1</td>\n",
              "    </tr>\n",
              "    <tr>\n",
              "      <th>6362584</th>\n",
              "      <td>741</td>\n",
              "      <td>TRANSFER</td>\n",
              "      <td>5674547.89</td>\n",
              "      <td>5674547.89</td>\n",
              "      <td>5674547.89</td>\n",
              "      <td>0.0</td>\n",
              "      <td>0.0</td>\n",
              "      <td>1</td>\n",
              "      <td>1</td>\n",
              "    </tr>\n",
              "  </tbody>\n",
              "</table>\n",
              "</div>"
            ],
            "text/plain": [
              "         step      type       amount  ...  newbalanceDest  isFraud  isFlaggedFraud\n",
              "2736446   212  TRANSFER   4953893.08  ...             0.0        1               1\n",
              "3247297   250  TRANSFER   1343002.08  ...             0.0        1               1\n",
              "3760288   279  TRANSFER    536624.41  ...             0.0        1               1\n",
              "5563713   387  TRANSFER   4892193.09  ...             0.0        1               1\n",
              "5996407   425  TRANSFER  10000000.00  ...             0.0        1               1\n",
              "5996409   425  TRANSFER   9585040.37  ...             0.0        1               1\n",
              "6168499   554  TRANSFER   3576297.10  ...             0.0        1               1\n",
              "6205439   586  TRANSFER    353874.22  ...             0.0        1               1\n",
              "6266413   617  TRANSFER   2542664.27  ...             0.0        1               1\n",
              "6281482   646  TRANSFER  10000000.00  ...             0.0        1               1\n",
              "6281484   646  TRANSFER    399045.08  ...             0.0        1               1\n",
              "6296014   671  TRANSFER   3441041.46  ...             0.0        1               1\n",
              "6351225   702  TRANSFER   3171085.59  ...             0.0        1               1\n",
              "6362460   730  TRANSFER  10000000.00  ...             0.0        1               1\n",
              "6362462   730  TRANSFER   7316255.05  ...             0.0        1               1\n",
              "6362584   741  TRANSFER   5674547.89  ...             0.0        1               1\n",
              "\n",
              "[16 rows x 9 columns]"
            ]
          },
          "metadata": {
            "tags": []
          },
          "execution_count": 28
        }
      ]
    },
    {
      "cell_type": "markdown",
      "metadata": {
        "id": "N9l49yAuH8go"
      },
      "source": [
        "All positive values in isFlaggedFraud are also positive on is Fraud Column. There is also inconsistancy in Origin and destination balances on these instances.May be that is why they were marked 'Fraud'. It could be valuable information, I will keep it too."
      ]
    },
    {
      "cell_type": "markdown",
      "metadata": {
        "id": "JEMM6dNOITNg"
      },
      "source": [
        "##FEATURE ENGINEERING"
      ]
    },
    {
      "cell_type": "markdown",
      "metadata": {
        "id": "-oqOMioOIiUd"
      },
      "source": [
        "\n",
        "First only get Transfer and Cash_out transaction data\n",
        "\n",
        "Since fraud transactions happens only in these type of transactions, I will use only that data.\n"
      ]
    },
    {
      "cell_type": "code",
      "metadata": {
        "id": "_wwXO-HRHxlg"
      },
      "source": [
        "#filtering only transfer and cash_out data\n",
        "df_by_type=df[df['type'].isin(['TRANSFER','CASH_OUT'])]"
      ],
      "execution_count": 30,
      "outputs": []
    },
    {
      "cell_type": "markdown",
      "metadata": {
        "id": "IBXFnd0LIo5L"
      },
      "source": [
        "\n",
        "Get 100000 random samples from the filtered data\n",
        "\n",
        "This data is too big to work with a machine learning algorithm. I will get random subsample from this dataframe just big enough to built a machine learning model. For such project 100000 instance would be good.\n"
      ]
    },
    {
      "cell_type": "code",
      "metadata": {
        "colab": {
          "base_uri": "https://localhost:8080/",
          "height": 206
        },
        "id": "hVr2_oJtHxq9",
        "outputId": "0c638de5-ef49-4416-b63e-8537abc197cf"
      },
      "source": [
        "#subsample data , get 100000 instances to train model\n",
        "df1=df_by_type.sample(n=100000, random_state=1)\n",
        "df1=df1.sort_index()\n",
        "df1=df1.reset_index(drop=True)\n",
        "df1.head()"
      ],
      "execution_count": 31,
      "outputs": [
        {
          "output_type": "execute_result",
          "data": {
            "text/html": [
              "<div>\n",
              "<style scoped>\n",
              "    .dataframe tbody tr th:only-of-type {\n",
              "        vertical-align: middle;\n",
              "    }\n",
              "\n",
              "    .dataframe tbody tr th {\n",
              "        vertical-align: top;\n",
              "    }\n",
              "\n",
              "    .dataframe thead th {\n",
              "        text-align: right;\n",
              "    }\n",
              "</style>\n",
              "<table border=\"1\" class=\"dataframe\">\n",
              "  <thead>\n",
              "    <tr style=\"text-align: right;\">\n",
              "      <th></th>\n",
              "      <th>step</th>\n",
              "      <th>type</th>\n",
              "      <th>amount</th>\n",
              "      <th>oldbalanceOrg</th>\n",
              "      <th>newbalanceOrig</th>\n",
              "      <th>oldbalanceDest</th>\n",
              "      <th>newbalanceDest</th>\n",
              "      <th>isFraud</th>\n",
              "      <th>isFlaggedFraud</th>\n",
              "    </tr>\n",
              "  </thead>\n",
              "  <tbody>\n",
              "    <tr>\n",
              "      <th>0</th>\n",
              "      <td>1</td>\n",
              "      <td>CASH_OUT</td>\n",
              "      <td>136872.92</td>\n",
              "      <td>162075.98</td>\n",
              "      <td>25203.05</td>\n",
              "      <td>217806.00</td>\n",
              "      <td>0.00</td>\n",
              "      <td>0</td>\n",
              "      <td>0</td>\n",
              "    </tr>\n",
              "    <tr>\n",
              "      <th>1</th>\n",
              "      <td>1</td>\n",
              "      <td>TRANSFER</td>\n",
              "      <td>367768.40</td>\n",
              "      <td>0.00</td>\n",
              "      <td>0.00</td>\n",
              "      <td>370763.10</td>\n",
              "      <td>16518.36</td>\n",
              "      <td>0</td>\n",
              "      <td>0</td>\n",
              "    </tr>\n",
              "    <tr>\n",
              "      <th>2</th>\n",
              "      <td>1</td>\n",
              "      <td>CASH_OUT</td>\n",
              "      <td>81029.86</td>\n",
              "      <td>0.00</td>\n",
              "      <td>0.00</td>\n",
              "      <td>105343.00</td>\n",
              "      <td>8496.61</td>\n",
              "      <td>0</td>\n",
              "      <td>0</td>\n",
              "    </tr>\n",
              "    <tr>\n",
              "      <th>3</th>\n",
              "      <td>1</td>\n",
              "      <td>CASH_OUT</td>\n",
              "      <td>53631.83</td>\n",
              "      <td>0.00</td>\n",
              "      <td>0.00</td>\n",
              "      <td>83244.00</td>\n",
              "      <td>0.00</td>\n",
              "      <td>0</td>\n",
              "      <td>0</td>\n",
              "    </tr>\n",
              "    <tr>\n",
              "      <th>4</th>\n",
              "      <td>1</td>\n",
              "      <td>CASH_OUT</td>\n",
              "      <td>365510.05</td>\n",
              "      <td>0.00</td>\n",
              "      <td>0.00</td>\n",
              "      <td>564572.76</td>\n",
              "      <td>1254956.07</td>\n",
              "      <td>0</td>\n",
              "      <td>0</td>\n",
              "    </tr>\n",
              "  </tbody>\n",
              "</table>\n",
              "</div>"
            ],
            "text/plain": [
              "   step      type     amount  ...  newbalanceDest  isFraud  isFlaggedFraud\n",
              "0     1  CASH_OUT  136872.92  ...            0.00        0               0\n",
              "1     1  TRANSFER  367768.40  ...        16518.36        0               0\n",
              "2     1  CASH_OUT   81029.86  ...         8496.61        0               0\n",
              "3     1  CASH_OUT   53631.83  ...            0.00        0               0\n",
              "4     1  CASH_OUT  365510.05  ...      1254956.07        0               0\n",
              "\n",
              "[5 rows x 9 columns]"
            ]
          },
          "metadata": {
            "tags": []
          },
          "execution_count": 31
        }
      ]
    },
    {
      "cell_type": "code",
      "metadata": {
        "colab": {
          "base_uri": "https://localhost:8080/"
        },
        "id": "nRP3M2KxHxv8",
        "outputId": "21604705-5f2b-4d27-b4bf-69371e19d4f2"
      },
      "source": [
        "df1.shape"
      ],
      "execution_count": 32,
      "outputs": [
        {
          "output_type": "execute_result",
          "data": {
            "text/plain": [
              "(100000, 9)"
            ]
          },
          "metadata": {
            "tags": []
          },
          "execution_count": 32
        }
      ]
    },
    {
      "cell_type": "code",
      "metadata": {
        "colab": {
          "base_uri": "https://localhost:8080/",
          "height": 206
        },
        "id": "_EIEWLo0Hx40",
        "outputId": "d7eff718-5add-4e51-a23b-2773442157d3"
      },
      "source": [
        "#Binary-encoding of labelled data in 'type'\n",
        "df1.loc[df1.type == 'CASH_OUT', 'type'] = 1\n",
        "df1.loc[df1.type == 'TRANSFER', 'type'] = 0\n",
        "df1.head()"
      ],
      "execution_count": 34,
      "outputs": [
        {
          "output_type": "execute_result",
          "data": {
            "text/html": [
              "<div>\n",
              "<style scoped>\n",
              "    .dataframe tbody tr th:only-of-type {\n",
              "        vertical-align: middle;\n",
              "    }\n",
              "\n",
              "    .dataframe tbody tr th {\n",
              "        vertical-align: top;\n",
              "    }\n",
              "\n",
              "    .dataframe thead th {\n",
              "        text-align: right;\n",
              "    }\n",
              "</style>\n",
              "<table border=\"1\" class=\"dataframe\">\n",
              "  <thead>\n",
              "    <tr style=\"text-align: right;\">\n",
              "      <th></th>\n",
              "      <th>step</th>\n",
              "      <th>type</th>\n",
              "      <th>amount</th>\n",
              "      <th>oldbalanceOrg</th>\n",
              "      <th>newbalanceOrig</th>\n",
              "      <th>oldbalanceDest</th>\n",
              "      <th>newbalanceDest</th>\n",
              "      <th>isFraud</th>\n",
              "      <th>isFlaggedFraud</th>\n",
              "    </tr>\n",
              "  </thead>\n",
              "  <tbody>\n",
              "    <tr>\n",
              "      <th>0</th>\n",
              "      <td>1</td>\n",
              "      <td>1</td>\n",
              "      <td>136872.92</td>\n",
              "      <td>162075.98</td>\n",
              "      <td>25203.05</td>\n",
              "      <td>217806.00</td>\n",
              "      <td>0.00</td>\n",
              "      <td>0</td>\n",
              "      <td>0</td>\n",
              "    </tr>\n",
              "    <tr>\n",
              "      <th>1</th>\n",
              "      <td>1</td>\n",
              "      <td>0</td>\n",
              "      <td>367768.40</td>\n",
              "      <td>0.00</td>\n",
              "      <td>0.00</td>\n",
              "      <td>370763.10</td>\n",
              "      <td>16518.36</td>\n",
              "      <td>0</td>\n",
              "      <td>0</td>\n",
              "    </tr>\n",
              "    <tr>\n",
              "      <th>2</th>\n",
              "      <td>1</td>\n",
              "      <td>0</td>\n",
              "      <td>81029.86</td>\n",
              "      <td>0.00</td>\n",
              "      <td>0.00</td>\n",
              "      <td>105343.00</td>\n",
              "      <td>8496.61</td>\n",
              "      <td>0</td>\n",
              "      <td>0</td>\n",
              "    </tr>\n",
              "    <tr>\n",
              "      <th>3</th>\n",
              "      <td>1</td>\n",
              "      <td>1</td>\n",
              "      <td>53631.83</td>\n",
              "      <td>0.00</td>\n",
              "      <td>0.00</td>\n",
              "      <td>83244.00</td>\n",
              "      <td>0.00</td>\n",
              "      <td>0</td>\n",
              "      <td>0</td>\n",
              "    </tr>\n",
              "    <tr>\n",
              "      <th>4</th>\n",
              "      <td>1</td>\n",
              "      <td>1</td>\n",
              "      <td>365510.05</td>\n",
              "      <td>0.00</td>\n",
              "      <td>0.00</td>\n",
              "      <td>564572.76</td>\n",
              "      <td>1254956.07</td>\n",
              "      <td>0</td>\n",
              "      <td>0</td>\n",
              "    </tr>\n",
              "  </tbody>\n",
              "</table>\n",
              "</div>"
            ],
            "text/plain": [
              "   step type     amount  ...  newbalanceDest  isFraud  isFlaggedFraud\n",
              "0     1    1  136872.92  ...            0.00        0               0\n",
              "1     1    0  367768.40  ...        16518.36        0               0\n",
              "2     1    0   81029.86  ...         8496.61        0               0\n",
              "3     1    1   53631.83  ...            0.00        0               0\n",
              "4     1    1  365510.05  ...      1254956.07        0               0\n",
              "\n",
              "[5 rows x 9 columns]"
            ]
          },
          "metadata": {
            "tags": []
          },
          "execution_count": 34
        }
      ]
    },
    {
      "cell_type": "code",
      "metadata": {
        "id": "tWaCM9CtJMuI"
      },
      "source": [
        "from sklearn.model_selection import train_test_split # import train_test_split function\n",
        "from sklearn.linear_model import LogisticRegression # import LogisticRegression\n",
        "from sklearn.metrics import classification_report, accuracy_score, roc_auc_score # import accuracy metrics\n",
        "from sklearn.ensemble import RandomForestClassifier #import RandomForestClassifier\n",
        "from sklearn import svm  #import support vector machine classifier\n",
        "import xgboost as xgb  \n",
        "from xgboost import  XGBClassifier  #import xgboost classifier \n",
        "from sklearn.neighbors import KNeighborsClassifier #import KNeighborsClassifier\n",
        "from sklearn.model_selection import GridSearchCV # import GridSearchCV\n",
        "# suppress all warnings\n",
        "import warnings\n",
        "warnings.filterwarnings(\"ignore\")"
      ],
      "execution_count": 35,
      "outputs": []
    },
    {
      "cell_type": "code",
      "metadata": {
        "id": "vb3s89XG_F9z",
        "colab": {
          "base_uri": "https://localhost:8080/",
          "height": 574
        },
        "outputId": "60f5e142-35e5-4956-ccbb-9a2c6eb0ba56"
      },
      "source": [
        "plt.figure(figsize=(15,8))\n",
        "df1.corr()['isFraud'].sort_values(ascending = False).plot(kind='bar')"
      ],
      "execution_count": 38,
      "outputs": [
        {
          "output_type": "execute_result",
          "data": {
            "text/plain": [
              "<matplotlib.axes._subplots.AxesSubplot at 0x7f8dcd87f5d0>"
            ]
          },
          "metadata": {
            "tags": []
          },
          "execution_count": 38
        },
        {
          "output_type": "display_data",
          "data": {
            "image/png": "[encoded data removed]",
            "text/plain": [
              "<Figure size 1080x576 with 1 Axes>"
            ]
          },
          "metadata": {
            "tags": []
          }
        }
      ]
    },
    {
      "cell_type": "code",
      "metadata": {
        "id": "AdWIaJWK_GDy",
        "colab": {
          "base_uri": "https://localhost:8080/",
          "height": 1000
        },
        "outputId": "acaf9200-a333-463c-812b-e1a6df9fdd53"
      },
      "source": [
        "# plotting correlation heatmap for how many columns are correlated with each other\n",
        "plt.figure(figsize=(50,50))\n",
        "#plot heat map\n",
        "g=sns.heatmap(df1.corr(),annot=True,cmap=\"RdYlGn\")"
      ],
      "execution_count": 39,
      "outputs": [
        {
          "output_type": "display_data",
          "data": {
            "image/png": "[encoded data removed]",
            "text/plain": [
              "<Figure size 3600x3600 with 2 Axes>"
            ]
          },
          "metadata": {
            "tags": []
          }
        }
      ]
    },
    {
      "cell_type": "code",
      "metadata": {
        "colab": {
          "base_uri": "https://localhost:8080/",
          "height": 206
        },
        "id": "lOGLkJIGK7ih",
        "outputId": "910a0e01-941c-4de4-c43f-d619a2a8654f"
      },
      "source": [
        "df1.head()"
      ],
      "execution_count": 45,
      "outputs": [
        {
          "output_type": "execute_result",
          "data": {
            "text/html": [
              "<div>\n",
              "<style scoped>\n",
              "    .dataframe tbody tr th:only-of-type {\n",
              "        vertical-align: middle;\n",
              "    }\n",
              "\n",
              "    .dataframe tbody tr th {\n",
              "        vertical-align: top;\n",
              "    }\n",
              "\n",
              "    .dataframe thead th {\n",
              "        text-align: right;\n",
              "    }\n",
              "</style>\n",
              "<table border=\"1\" class=\"dataframe\">\n",
              "  <thead>\n",
              "    <tr style=\"text-align: right;\">\n",
              "      <th></th>\n",
              "      <th>step</th>\n",
              "      <th>type</th>\n",
              "      <th>amount</th>\n",
              "      <th>oldbalanceOrg</th>\n",
              "      <th>newbalanceOrig</th>\n",
              "      <th>oldbalanceDest</th>\n",
              "      <th>newbalanceDest</th>\n",
              "      <th>isFraud</th>\n",
              "      <th>isFlaggedFraud</th>\n",
              "    </tr>\n",
              "  </thead>\n",
              "  <tbody>\n",
              "    <tr>\n",
              "      <th>0</th>\n",
              "      <td>1</td>\n",
              "      <td>1</td>\n",
              "      <td>136872.92</td>\n",
              "      <td>162075.98</td>\n",
              "      <td>25203.05</td>\n",
              "      <td>217806.00</td>\n",
              "      <td>0.00</td>\n",
              "      <td>0</td>\n",
              "      <td>0</td>\n",
              "    </tr>\n",
              "    <tr>\n",
              "      <th>1</th>\n",
              "      <td>1</td>\n",
              "      <td>0</td>\n",
              "      <td>367768.40</td>\n",
              "      <td>0.00</td>\n",
              "      <td>0.00</td>\n",
              "      <td>370763.10</td>\n",
              "      <td>16518.36</td>\n",
              "      <td>0</td>\n",
              "      <td>0</td>\n",
              "    </tr>\n",
              "    <tr>\n",
              "      <th>2</th>\n",
              "      <td>1</td>\n",
              "      <td>0</td>\n",
              "      <td>81029.86</td>\n",
              "      <td>0.00</td>\n",
              "      <td>0.00</td>\n",
              "      <td>105343.00</td>\n",
              "      <td>8496.61</td>\n",
              "      <td>0</td>\n",
              "      <td>0</td>\n",
              "    </tr>\n",
              "    <tr>\n",
              "      <th>3</th>\n",
              "      <td>1</td>\n",
              "      <td>1</td>\n",
              "      <td>53631.83</td>\n",
              "      <td>0.00</td>\n",
              "      <td>0.00</td>\n",
              "      <td>83244.00</td>\n",
              "      <td>0.00</td>\n",
              "      <td>0</td>\n",
              "      <td>0</td>\n",
              "    </tr>\n",
              "    <tr>\n",
              "      <th>4</th>\n",
              "      <td>1</td>\n",
              "      <td>1</td>\n",
              "      <td>365510.05</td>\n",
              "      <td>0.00</td>\n",
              "      <td>0.00</td>\n",
              "      <td>564572.76</td>\n",
              "      <td>1254956.07</td>\n",
              "      <td>0</td>\n",
              "      <td>0</td>\n",
              "    </tr>\n",
              "  </tbody>\n",
              "</table>\n",
              "</div>"
            ],
            "text/plain": [
              "   step type     amount  ...  newbalanceDest  isFraud  isFlaggedFraud\n",
              "0     1    1  136872.92  ...            0.00        0               0\n",
              "1     1    0  367768.40  ...        16518.36        0               0\n",
              "2     1    0   81029.86  ...         8496.61        0               0\n",
              "3     1    1   53631.83  ...            0.00        0               0\n",
              "4     1    1  365510.05  ...      1254956.07        0               0\n",
              "\n",
              "[5 rows x 9 columns]"
            ]
          },
          "metadata": {
            "tags": []
          },
          "execution_count": 45
        }
      ]
    },
    {
      "cell_type": "code",
      "metadata": {
        "id": "mVJX4v1FK0uw"
      },
      "source": [
        "df1['type'] = pd.to_numeric(df1['type'])"
      ],
      "execution_count": 46,
      "outputs": []
    },
    {
      "cell_type": "code",
      "metadata": {
        "colab": {
          "base_uri": "https://localhost:8080/"
        },
        "id": "18HFY82-LGV2",
        "outputId": "83823480-e7ff-4a40-a6c0-a2dc66a2f220"
      },
      "source": [
        "df1.info()"
      ],
      "execution_count": 47,
      "outputs": [
        {
          "output_type": "stream",
          "text": [
            "<class 'pandas.core.frame.DataFrame'>\n",
            "RangeIndex: 100000 entries, 0 to 99999\n",
            "Data columns (total 9 columns):\n",
            " #   Column          Non-Null Count   Dtype  \n",
            "---  ------          --------------   -----  \n",
            " 0   step            100000 non-null  int64  \n",
            " 1   type            100000 non-null  int64  \n",
            " 2   amount          100000 non-null  float64\n",
            " 3   oldbalanceOrg   100000 non-null  float64\n",
            " 4   newbalanceOrig  100000 non-null  float64\n",
            " 5   oldbalanceDest  100000 non-null  float64\n",
            " 6   newbalanceDest  100000 non-null  float64\n",
            " 7   isFraud         100000 non-null  int64  \n",
            " 8   isFlaggedFraud  100000 non-null  int64  \n",
            "dtypes: float64(5), int64(4)\n",
            "memory usage: 6.9 MB\n"
          ],
          "name": "stdout"
        }
      ]
    },
    {
      "cell_type": "code",
      "metadata": {
        "id": "bv5fX8LjLNGJ",
        "colab": {
          "base_uri": "https://localhost:8080/"
        },
        "outputId": "3ed8e91f-8536-4e6e-86dd-a4cf2d79d902"
      },
      "source": [
        "x=df1.drop(['isFraud'], axis = 1)\n",
        "y=df1['isFraud']\n",
        "x.shape, y.shape"
      ],
      "execution_count": 48,
      "outputs": [
        {
          "output_type": "execute_result",
          "data": {
            "text/plain": [
              "((100000, 8), (100000,))"
            ]
          },
          "metadata": {
            "tags": []
          },
          "execution_count": 48
        }
      ]
    },
    {
      "cell_type": "code",
      "metadata": {
        "id": "SKbBwR3lAOEO"
      },
      "source": [
        "from sklearn.model_selection import train_test_split\n",
        "x_train,x_test, y_train, y_test = train_test_split(x,y, test_size =0.20, random_state = 3)"
      ],
      "execution_count": 49,
      "outputs": []
    },
    {
      "cell_type": "markdown",
      "metadata": {
        "id": "MgOq0osntPcK"
      },
      "source": [
        "###MODEL BUILDING -- RANDOM FOREST CLASSIFIER"
      ]
    },
    {
      "cell_type": "code",
      "metadata": {
        "id": "0i4W81ET_GII"
      },
      "source": [
        "from sklearn.ensemble import RandomForestClassifier\n",
        "clf = RandomForestClassifier(n_estimators=1000, max_depth=10, min_samples_leaf=2, random_state=1)\n",
        "clf.fit(x_train, y_train)\n",
        "y_pred=clf.predict(x_test)"
      ],
      "execution_count": 42,
      "outputs": []
    },
    {
      "cell_type": "code",
      "metadata": {
        "id": "4EQ4gjmq_GL8",
        "colab": {
          "base_uri": "https://localhost:8080/"
        },
        "outputId": "6c5060bc-ae67-4e90-fb27-2c367988922b"
      },
      "source": [
        "from sklearn.metrics import confusion_matrix\n",
        "from sklearn.metrics import classification_report, roc_curve, auc\n",
        "\n",
        "print(classification_report(y_test, y_pred))\n",
        "print(confusion_matrix(y_test, y_pred))\n",
        "\n",
        "from sklearn.metrics import accuracy_score\n",
        "print('accuracy is',accuracy_score(y_test,y_pred))"
      ],
      "execution_count": 43,
      "outputs": [
        {
          "output_type": "stream",
          "text": [
            "              precision    recall  f1-score   support\n",
            "\n",
            "           0       1.00      1.00      1.00     19935\n",
            "           1       0.96      0.66      0.78        65\n",
            "\n",
            "    accuracy                           1.00     20000\n",
            "   macro avg       0.98      0.83      0.89     20000\n",
            "weighted avg       1.00      1.00      1.00     20000\n",
            "\n",
            "[[19933     2]\n",
            " [   22    43]]\n",
            "accuracy is 0.9988\n"
          ],
          "name": "stdout"
        }
      ]
    },
    {
      "cell_type": "markdown",
      "metadata": {
        "id": "eRUGjhVwuSy-"
      },
      "source": [
        "#### XGBOOST CLASSIFIER"
      ]
    },
    {
      "cell_type": "code",
      "metadata": {
        "id": "UyuymTuauU75"
      },
      "source": [
        "from xgboost import XGBClassifier\n",
        "clf = XGBClassifier(n_estimators=1000)\n",
        "clf.fit(x_train, y_train)\n",
        "y_pred=clf.predict(x_test)"
      ],
      "execution_count": 50,
      "outputs": []
    },
    {
      "cell_type": "code",
      "metadata": {
        "id": "73jhTWjzuVDA",
        "colab": {
          "base_uri": "https://localhost:8080/"
        },
        "outputId": "2a75a714-ee91-4943-8512-d5db1b8994c6"
      },
      "source": [
        "from sklearn.metrics import confusion_matrix\n",
        "from sklearn.metrics import classification_report, roc_curve, auc\n",
        "\n",
        "print(classification_report(y_test, y_pred))\n",
        "print(confusion_matrix(y_test, y_pred))\n",
        "\n",
        "from sklearn.metrics import accuracy_score\n",
        "print('accuracy is',accuracy_score(y_test,y_pred))"
      ],
      "execution_count": 51,
      "outputs": [
        {
          "output_type": "stream",
          "text": [
            "              precision    recall  f1-score   support\n",
            "\n",
            "           0       1.00      1.00      1.00     19935\n",
            "           1       0.98      0.72      0.83        65\n",
            "\n",
            "    accuracy                           1.00     20000\n",
            "   macro avg       0.99      0.86      0.92     20000\n",
            "weighted avg       1.00      1.00      1.00     20000\n",
            "\n",
            "[[19934     1]\n",
            " [   18    47]]\n",
            "accuracy is 0.99905\n"
          ],
          "name": "stdout"
        }
      ]
    },
    {
      "cell_type": "markdown",
      "metadata": {
        "id": "svRVLiXltLcm"
      },
      "source": [
        "###HYPERPARAMETER TUNING FOR RANDOM FOREST CLASSIFIER"
      ]
    },
    {
      "cell_type": "code",
      "metadata": {
        "id": "Y-y1Zoae_GPf"
      },
      "source": [
        "params={'n_estimators': [100, 200, 300, 400, 500, 600, 800, 1000, 2000],\n",
        "        'max_depth' : [3, 4, 5, 6, 8, 10, 12, 15, 20, 25, 30],\n",
        "         'min_samples_leaf' : [1, 3, 5, 7],\n",
        "        'max_features' : [1, 2, 3, 4, 5], \n",
        "        'criterion' : ['gini', 'entropy']}"
      ],
      "execution_count": 52,
      "outputs": []
    },
    {
      "cell_type": "code",
      "metadata": {
        "id": "6oLEIAIItZTv"
      },
      "source": [
        "from sklearn.model_selection import RandomizedSearchCV, GridSearchCV\n",
        "from sklearn.ensemble import RandomForestClassifier\n",
        "clf=RandomForestClassifier()"
      ],
      "execution_count": 53,
      "outputs": []
    },
    {
      "cell_type": "code",
      "metadata": {
        "colab": {
          "base_uri": "https://localhost:8080/"
        },
        "id": "HH2_a2oitZXl",
        "outputId": "cf53d73c-24d9-4fef-b7d2-468704d726c6"
      },
      "source": [
        "random_search=RandomizedSearchCV(clf, param_distributions=params, n_iter=5, n_jobs=-1, cv=5, verbose=3)\n",
        "random_search.fit(x_train, y_train)"
      ],
      "execution_count": 54,
      "outputs": [
        {
          "output_type": "stream",
          "text": [
            "Fitting 5 folds for each of 5 candidates, totalling 25 fits\n"
          ],
          "name": "stdout"
        },
        {
          "output_type": "stream",
          "text": [
            "[Parallel(n_jobs=-1)]: Using backend LokyBackend with 2 concurrent workers.\n",
            "[Parallel(n_jobs=-1)]: Done  25 out of  25 | elapsed: 15.6min finished\n"
          ],
          "name": "stderr"
        },
        {
          "output_type": "execute_result",
          "data": {
            "text/plain": [
              "RandomizedSearchCV(cv=5, error_score=nan,\n",
              "                   estimator=RandomForestClassifier(bootstrap=True,\n",
              "                                                    ccp_alpha=0.0,\n",
              "                                                    class_weight=None,\n",
              "                                                    criterion='gini',\n",
              "                                                    max_depth=None,\n",
              "                                                    max_features='auto',\n",
              "                                                    max_leaf_nodes=None,\n",
              "                                                    max_samples=None,\n",
              "                                                    min_impurity_decrease=0.0,\n",
              "                                                    min_impurity_split=None,\n",
              "                                                    min_samples_leaf=1,\n",
              "                                                    min_samples_split=2,\n",
              "                                                    min_weight_fraction_leaf=0.0,\n",
              "                                                    n_estimators=100,\n",
              "                                                    n_jobs...\n",
              "                                                    warm_start=False),\n",
              "                   iid='deprecated', n_iter=5, n_jobs=-1,\n",
              "                   param_distributions={'criterion': ['gini', 'entropy'],\n",
              "                                        'max_depth': [3, 4, 5, 6, 8, 10, 12, 15,\n",
              "                                                      20, 25, 30],\n",
              "                                        'max_features': [1, 2, 3, 4, 5],\n",
              "                                        'min_samples_leaf': [1, 3, 5, 7],\n",
              "                                        'n_estimators': [100, 200, 300, 400,\n",
              "                                                         500, 600, 800, 1000,\n",
              "                                                         2000]},\n",
              "                   pre_dispatch='2*n_jobs', random_state=None, refit=True,\n",
              "                   return_train_score=False, scoring=None, verbose=3)"
            ]
          },
          "metadata": {
            "tags": []
          },
          "execution_count": 54
        }
      ]
    },
    {
      "cell_type": "code",
      "metadata": {
        "id": "BnPWwWnbtZcC",
        "colab": {
          "base_uri": "https://localhost:8080/"
        },
        "outputId": "b8a1ba9f-14b2-4e07-d4a9-e19d159e97e1"
      },
      "source": [
        "random_search.best_estimator_"
      ],
      "execution_count": 55,
      "outputs": [
        {
          "output_type": "execute_result",
          "data": {
            "text/plain": [
              "RandomForestClassifier(bootstrap=True, ccp_alpha=0.0, class_weight=None,\n",
              "                       criterion='entropy', max_depth=20, max_features=3,\n",
              "                       max_leaf_nodes=None, max_samples=None,\n",
              "                       min_impurity_decrease=0.0, min_impurity_split=None,\n",
              "                       min_samples_leaf=1, min_samples_split=2,\n",
              "                       min_weight_fraction_leaf=0.0, n_estimators=800,\n",
              "                       n_jobs=None, oob_score=False, random_state=None,\n",
              "                       verbose=0, warm_start=False)"
            ]
          },
          "metadata": {
            "tags": []
          },
          "execution_count": 55
        }
      ]
    },
    {
      "cell_type": "code",
      "metadata": {
        "id": "guYtETG1tZfx"
      },
      "source": [
        "clf=RandomForestClassifier(bootstrap=True, ccp_alpha=0.0, class_weight=None,\n",
        "                       criterion='entropy', max_depth=20, max_features=3,\n",
        "                       max_leaf_nodes=None, max_samples=None,\n",
        "                       min_impurity_decrease=0.0, min_impurity_split=None,\n",
        "                       min_samples_leaf=1, min_samples_split=2,\n",
        "                       min_weight_fraction_leaf=0.0, n_estimators=800,\n",
        "                       n_jobs=None, oob_score=False, random_state=None,\n",
        "                       verbose=0, warm_start=False)"
      ],
      "execution_count": 56,
      "outputs": []
    },
    {
      "cell_type": "code",
      "metadata": {
        "id": "XL6pwD65tZuX"
      },
      "source": [
        "clf.fit(x_train, y_train)\n",
        "y_pred=clf.predict(x_test)"
      ],
      "execution_count": 58,
      "outputs": []
    },
    {
      "cell_type": "code",
      "metadata": {
        "id": "74wxw9QptZxn",
        "colab": {
          "base_uri": "https://localhost:8080/"
        },
        "outputId": "b2fe0c49-439f-4028-d187-b4b4483a6fe0"
      },
      "source": [
        "from sklearn.metrics import accuracy_score \n",
        "accuracy_score(y_test, y_pred)"
      ],
      "execution_count": 59,
      "outputs": [
        {
          "output_type": "execute_result",
          "data": {
            "text/plain": [
              "0.99895"
            ]
          },
          "metadata": {
            "tags": []
          },
          "execution_count": 59
        }
      ]
    },
    {
      "cell_type": "code",
      "metadata": {
        "id": "2zH9yFeOt5k3"
      },
      "source": [
        "from sklearn.metrics import confusion_matrix\n",
        "from sklearn.metrics import classification_report, roc_curve, auc\n",
        "\n",
        "print(classification_report(y_test, y_pred))\n",
        "print(confusion_matrix(y_test, y_pred))"
      ],
      "execution_count": null,
      "outputs": []
    },
    {
      "cell_type": "markdown",
      "metadata": {
        "id": "cHGfKFE_uH48"
      },
      "source": [
        "#### HYPERPARAMETER TUNING FOR XGBOOST CLASSIFIER"
      ]
    },
    {
      "cell_type": "code",
      "metadata": {
        "id": "ThI0zGy9t5om"
      },
      "source": [
        "import xgboost"
      ],
      "execution_count": 60,
      "outputs": []
    },
    {
      "cell_type": "code",
      "metadata": {
        "id": "YiPn7k0et5wj"
      },
      "source": [
        "params={'learning_rate': [0.05, 0.10, 0.15, 0.20, 0.25, 0.30],\n",
        "        'max_depth' : [3, 4, 5, 6, 8, 10, 12, 15, 20, 25, 30],\n",
        "         'min_child_weight' : [1, 3, 5, 7],\n",
        "        'gamma' : [0.0, 0.1, 0.2, 0.3, 0.4], \n",
        "        'colsample_bytree' : [0.3, 0.4, 0.5, 0.7]}"
      ],
      "execution_count": 61,
      "outputs": []
    },
    {
      "cell_type": "code",
      "metadata": {
        "id": "xrZTnSWmt50h"
      },
      "source": [
        "clf1=xgboost.XGBClassifier()"
      ],
      "execution_count": 62,
      "outputs": []
    },
    {
      "cell_type": "code",
      "metadata": {
        "id": "Bo6AXuv3t55H",
        "colab": {
          "base_uri": "https://localhost:8080/"
        },
        "outputId": "627f8fb7-96c0-4d25-a66f-23a02d9cf5d8"
      },
      "source": [
        "random_search=RandomizedSearchCV(clf1, param_distributions=params, n_iter=5, n_jobs=-1, cv=5, verbose=3)\n",
        "random_search.fit(x_train, y_train)"
      ],
      "execution_count": 63,
      "outputs": [
        {
          "output_type": "stream",
          "text": [
            "Fitting 5 folds for each of 5 candidates, totalling 25 fits\n"
          ],
          "name": "stdout"
        },
        {
          "output_type": "stream",
          "text": [
            "[Parallel(n_jobs=-1)]: Using backend LokyBackend with 2 concurrent workers.\n",
            "[Parallel(n_jobs=-1)]: Done  25 out of  25 | elapsed:   48.7s finished\n"
          ],
          "name": "stderr"
        },
        {
          "output_type": "execute_result",
          "data": {
            "text/plain": [
              "RandomizedSearchCV(cv=5, error_score=nan,\n",
              "                   estimator=XGBClassifier(base_score=0.5, booster='gbtree',\n",
              "                                           colsample_bylevel=1,\n",
              "                                           colsample_bynode=1,\n",
              "                                           colsample_bytree=1, gamma=0,\n",
              "                                           learning_rate=0.1, max_delta_step=0,\n",
              "                                           max_depth=3, min_child_weight=1,\n",
              "                                           missing=None, n_estimators=100,\n",
              "                                           n_jobs=1, nthread=None,\n",
              "                                           objective='binary:logistic',\n",
              "                                           random_state=0, reg_alpha=0,\n",
              "                                           reg_lambda=1, sc...\n",
              "                                           verbosity=1),\n",
              "                   iid='deprecated', n_iter=5, n_jobs=-1,\n",
              "                   param_distributions={'colsample_bytree': [0.3, 0.4, 0.5,\n",
              "                                                             0.7],\n",
              "                                        'gamma': [0.0, 0.1, 0.2, 0.3, 0.4],\n",
              "                                        'learning_rate': [0.05, 0.1, 0.15, 0.2,\n",
              "                                                          0.25, 0.3],\n",
              "                                        'max_depth': [3, 4, 5, 6, 8, 10, 12, 15,\n",
              "                                                      20, 25, 30],\n",
              "                                        'min_child_weight': [1, 3, 5, 7]},\n",
              "                   pre_dispatch='2*n_jobs', random_state=None, refit=True,\n",
              "                   return_train_score=False, scoring=None, verbose=3)"
            ]
          },
          "metadata": {
            "tags": []
          },
          "execution_count": 63
        }
      ]
    },
    {
      "cell_type": "code",
      "metadata": {
        "id": "RvYILuQKt583",
        "colab": {
          "base_uri": "https://localhost:8080/"
        },
        "outputId": "4d1847ec-ac05-433b-b71d-4ef6c5055013"
      },
      "source": [
        "random_search.best_estimator_"
      ],
      "execution_count": 65,
      "outputs": [
        {
          "output_type": "execute_result",
          "data": {
            "text/plain": [
              "XGBClassifier(base_score=0.5, booster='gbtree', colsample_bylevel=1,\n",
              "              colsample_bynode=1, colsample_bytree=0.5, gamma=0.2,\n",
              "              learning_rate=0.15, max_delta_step=0, max_depth=5,\n",
              "              min_child_weight=5, missing=None, n_estimators=100, n_jobs=1,\n",
              "              nthread=None, objective='binary:logistic', random_state=0,\n",
              "              reg_alpha=0, reg_lambda=1, scale_pos_weight=1, seed=None,\n",
              "              silent=None, subsample=1, verbosity=1)"
            ]
          },
          "metadata": {
            "tags": []
          },
          "execution_count": 65
        }
      ]
    },
    {
      "cell_type": "code",
      "metadata": {
        "id": "Ue5GG5IQt6Bu"
      },
      "source": [
        "clf1=xgboost.XGBClassifier(base_score=0.5, booster='gbtree', colsample_bylevel=1,\n",
        "              colsample_bynode=1, colsample_bytree=0.5, gamma=0.2,\n",
        "              learning_rate=0.15, max_delta_step=0, max_depth=5,\n",
        "              min_child_weight=5, missing=None, n_estimators=100, n_jobs=1,\n",
        "              nthread=None, objective='binary:logistic', random_state=0,\n",
        "              reg_alpha=0, reg_lambda=1, scale_pos_weight=1, seed=None,\n",
        "              silent=None, subsample=1, verbosity=1)"
      ],
      "execution_count": 67,
      "outputs": []
    },
    {
      "cell_type": "code",
      "metadata": {
        "id": "piI3rRL1t6Ql"
      },
      "source": [
        "clf1.fit(x_train, y_train)\n",
        "y_pred=clf1.predict(x_test)"
      ],
      "execution_count": 68,
      "outputs": []
    },
    {
      "cell_type": "code",
      "metadata": {
        "id": "jyFRLjgft6Ui",
        "colab": {
          "base_uri": "https://localhost:8080/"
        },
        "outputId": "98866607-e604-49f3-9f84-f66cb6676e20"
      },
      "source": [
        "from sklearn.metrics import accuracy_score \n",
        "accuracy_score(y_test, y_pred)"
      ],
      "execution_count": 69,
      "outputs": [
        {
          "output_type": "execute_result",
          "data": {
            "text/plain": [
              "0.9991"
            ]
          },
          "metadata": {
            "tags": []
          },
          "execution_count": 69
        }
      ]
    },
    {
      "cell_type": "code",
      "metadata": {
        "id": "QuuPIrf4t6YE",
        "colab": {
          "base_uri": "https://localhost:8080/"
        },
        "outputId": "3bdf655f-485e-4906-f16f-5e7eaf1d0041"
      },
      "source": [
        "from sklearn.metrics import confusion_matrix\n",
        "from sklearn.metrics import classification_report, roc_curve, auc\n",
        "\n",
        "print(classification_report(y_test, y_pred))\n",
        "print(confusion_matrix(y_test, y_pred))"
      ],
      "execution_count": 70,
      "outputs": [
        {
          "output_type": "stream",
          "text": [
            "              precision    recall  f1-score   support\n",
            "\n",
            "           0       1.00      1.00      1.00     19935\n",
            "           1       1.00      0.72      0.84        65\n",
            "\n",
            "    accuracy                           1.00     20000\n",
            "   macro avg       1.00      0.86      0.92     20000\n",
            "weighted avg       1.00      1.00      1.00     20000\n",
            "\n",
            "[[19935     0]\n",
            " [   18    47]]\n"
          ],
          "name": "stdout"
        }
      ]
    },
    {
      "cell_type": "markdown",
      "metadata": {
        "id": "FuRNaPerLuxh"
      },
      "source": [
        "## Feature Importance\n",
        "\n",
        "Lets check whick features are the most influencial ones for both model.\n"
      ]
    },
    {
      "cell_type": "code",
      "metadata": {
        "colab": {
          "base_uri": "https://localhost:8080/",
          "height": 352
        },
        "id": "gQykY2XAL0GZ",
        "outputId": "ec53526b-7153-4a4e-c068-e9951db07b1a"
      },
      "source": [
        "# plot the important features - based on Random Forest\n",
        "feat_importances = pd.Series(clf.feature_importances_, index=features.columns)\n",
        "ax.set_ylabel('features', size = 16);\n",
        "feat_importances.nlargest(10).sort_values().plot(kind='barh', figsize=(10,5))\n",
        "plt.xlabel('Relative Feature Importance for Random Forest');\n",
        "plt.title('Feature Importance Order', size = 16);"
      ],
      "execution_count": 71,
      "outputs": [
        {
          "output_type": "display_data",
          "data": {
            "image/png": "[encoded data removed]",
            "text/plain": [
              "<Figure size 720x360 with 1 Axes>"
            ]
          },
          "metadata": {
            "tags": []
          }
        }
      ]
    },
    {
      "cell_type": "code",
      "metadata": {
        "colab": {
          "base_uri": "https://localhost:8080/",
          "height": 409
        },
        "id": "_qiELpOML7mr",
        "outputId": "b0c7ce73-c72b-4913-d3db-124da415655a"
      },
      "source": [
        "# plot the important features - based on XGBOOST\n",
        "from xgboost import plot_importance\n",
        "\n",
        "fig = plt.figure(figsize = (10, 6))\n",
        "ax = fig.add_subplot(111)\n",
        "colours = plt.cm.Set1(np.linspace(0, 1, 9))\n",
        "ax = plot_importance(clf1, height = 0.5, color = 'orange', grid = False, \\\n",
        "                     show_values = False, importance_type = 'cover', ax = ax);\n",
        "for axis in ['top','bottom','left','right']:\n",
        "            ax.spines[axis].set_linewidth(2)        \n",
        "ax.set_xlabel('Relative Feature Importance for XGBoost', size=12);\n",
        "ax.set_yticklabels(ax.get_yticklabels(), size = 12);\n",
        "ax.set_title('Feature Importance Order', size = 16);"
      ],
      "execution_count": 72,
      "outputs": [
        {
          "output_type": "display_data",
          "data": {
            "image/png": "[encoded data removed]",
            "text/plain": [
              "<Figure size 720x432 with 1 Axes>"
            ]
          },
          "metadata": {
            "tags": []
          }
        }
      ]
    },
    {
      "cell_type": "markdown",
      "metadata": {
        "id": "Mn644ZkWT03q"
      },
      "source": [
        "Each model gives different importance to the features. But oldbalanceOrg and newbalanceDest are the major indicators for both models."
      ]
    },
    {
      "cell_type": "markdown",
      "metadata": {
        "id": "NymtftG-TnVv"
      },
      "source": [
        "Conclusion: I created a model that can predict fraud transactions. I used XGBoost and RandomForest classifiers in this model. Both are giving me 99% accuracy. But XGBOOST classifier gives me 99.9%."
      ]
    },
    {
      "cell_type": "markdown",
      "metadata": {
        "id": "ZkNpF0DWoY_e"
      },
      "source": [
        "##Q&A"
      ]
    },
    {
      "cell_type": "markdown",
      "metadata": {
        "id": "xgiZEe8voeLM"
      },
      "source": [
        "### 1. Data cleaning including missing values, outliers and multi-collinearity.\n",
        "\n",
        "#####Missing values are not present in present dataset. The data is skewed, so we can't say it's a outlier. There are some correlated features (multicollinearity) present in the dataset. But i still take all features to my machine learning model."
      ]
    },
    {
      "cell_type": "markdown",
      "metadata": {
        "id": "g0NZ3f4zoeSC"
      },
      "source": [
        "### 2. Describe your fraud detection model in elaboration.\n",
        "\n",
        "#####We use Supervised Machine Learning model for detecting fraud. Here, a machine tries to learn by itself and becomes better by experience. Also, it is an efficient way of detecting fraud because of its fast computing. It does not even require the guidance of a fraud analyst. It helps in reducing false positives for transactions as the patterns are detected by an automated system for streaming transactions that are in huge volume. \n",
        "1. Feeding Data: First, the data is fed into the model. The accuracy of the model depends on the amount of data on which it is trained, more data better the model performs.\n",
        "\n",
        "2. Extracting Features: Feature extraction basically works on extracting the information of each and every thread associated with a transaction process. \n",
        "\n",
        "    \n",
        "3. Training the Algorithm: Once i have created a fraud detection algorithm(here i am using random forest classifier), i need to train it by providing customers data so that the fraud detection algorithm learns how to distinguish between ‘fraud’ and ‘genuine’ transactions.\n",
        "\n",
        "4. Creating a Model: Once i have trained my fraud detection algorithm on a specific dataset, my model is ready to detect the ‘fraudulent’ and ‘non-fraudulent’ transactions.\n"
      ]
    },
    {
      "cell_type": "markdown",
      "metadata": {
        "id": "aKS4fEu-oeXl"
      },
      "source": [
        "###3. How did you select variables to be included in the model?\n",
        "\n",
        "##### Since the variables has  less number, I have selected all my variables to run my model (excluding the variables --'nameOrig', 'nameDest' both are name type. so i avoid this)"
      ]
    },
    {
      "cell_type": "markdown",
      "metadata": {
        "id": "7UWeyBkJoeb9"
      },
      "source": [
        "###4. Demonstrate the performance of the model by using best set of tools.\n",
        "\n",
        "#####XGBoost classifier has always been an influential method in data science. I found that the accuracy of the model is close to 99.9% on both training and testing datasets. The accuracy is significantly enough and implies that the model is robust. "
      ]
    },
    {
      "cell_type": "markdown",
      "metadata": {
        "id": "pQKW5723oewY"
      },
      "source": [
        "###5. What are the key factors that predict fraudulent customer?\n",
        "\n",
        "#####Most important features are senders balance before the transaction (oldBalanceOrig) and receivers balance after the transaction (newBalanceDest). Fraud activities only happens with TRANSFER and CASH_OUT transactions. DEBIT usage is very safe. So these are important factors to predict fraudulent transactions."
      ]
    },
    {
      "cell_type": "markdown",
      "metadata": {
        "id": "c_NVCPfooe03"
      },
      "source": [
        "###6. Do these factors make sense? If yes, How? If not, How not?\n",
        "\n",
        "#####Yes. Because it strongly correlates with target feature (isFraud)."
      ]
    },
    {
      "cell_type": "markdown",
      "metadata": {
        "id": "519tJuAuoe5z"
      },
      "source": [
        "###7. What kind of prevention should be adopted while company update its infrastructure?\n",
        "\n",
        "#####I would like reindex this dataset with timestamps and analyze it as time series. I believe I would find some seasonality on both fraud transaction frequency and amount as well. It migth also help to predict fraud transactions, that way companies could be extra cautios.\n"
      ]
    },
    {
      "cell_type": "markdown",
      "metadata": {
        "id": "CdN11QIHoe-X"
      },
      "source": [
        "###8. Assuming these actions have been implemented, how would you determine if they work?\n",
        "\n",
        "#####In order to track the fraudulent transactions, personalized e-mails, aadhar card, or SMS (any kind of Identity verification) should be linked to the customer bank account. By using Machine Learning model, it will help, examine, and check identity documents against secure databases in real-time to ensure all fraud cases will be detected. To enhance the security provided with Machine Learning, additional verification such as face recognition or biometric information can be required. These security methods demand real individuals to authenticate the operation and significantly lower the chance for successful fraud."
      ]
    }
  ]
}